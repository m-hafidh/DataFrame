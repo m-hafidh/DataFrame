{
 "cells": [
  {
   "cell_type": "code",
   "execution_count": 238,
   "id": "6156f076-6f70-48d7-a09c-3f57c3699ad8",
   "metadata": {},
   "outputs": [],
   "source": [
    "#Importations de librairie pandas \n",
    "import pandas as pd \n",
    "import numpy as np\n"
   ]
  },
  {
   "cell_type": "code",
   "execution_count": 196,
   "id": "1720e183-5915-4326-9ae3-cabcfd555fa8",
   "metadata": {},
   "outputs": [],
   "source": [
    "#Creations de la DataFrame \n",
    "\n",
    "data =pd.DataFrame({\n",
    "    'Nom':['Hafidhou maoulida ','Fahami Toihir','Zayyad Said','Sayaf Hassanaly'],\n",
    "    'Niveau':['Bac +5', 'Doctorat','Bac +1','Bac +2'],\n",
    "    'Age':[25,30,22,21],\n",
    "    'Ville':['Tsinimoipanga','Vouvouni','Mbachilé','Hetsa']\n",
    "})\n",
    "\n"
   ]
  },
  {
   "cell_type": "code",
   "execution_count": 197,
   "id": "bbd2fb2f-f113-4865-8123-cfd70897e4da",
   "metadata": {},
   "outputs": [
    {
     "name": "stdout",
     "output_type": "stream",
     "text": [
      "                  Nom    Niveau  Age          Ville\n",
      "0  Hafidhou maoulida     Bac +5   25  Tsinimoipanga\n",
      "1       Fahami Toihir  Doctorat   30       Vouvouni\n",
      "2         Zayyad Said    Bac +1   22       Mbachilé\n",
      "3     Sayaf Hassanaly    Bac +2   21          Hetsa\n"
     ]
    }
   ],
   "source": [
    "#Afficher la liste de la DataFrame\n",
    "df=pd.DataFrame(data)\n",
    "print(df)"
   ]
  },
  {
   "cell_type": "code",
   "execution_count": 198,
   "id": "3442dfbf-56ea-4f4c-a74f-b093420fa1d2",
   "metadata": {},
   "outputs": [
    {
     "name": "stdout",
     "output_type": "stream",
     "text": [
      "                  Nom    Niveau  Age          Ville\n",
      "0  Hafidhou maoulida     Bac +5   25  Tsinimoipanga\n",
      "1       Fahami Toihir  Doctorat   30       Vouvouni\n",
      "2         Zayyad Said    Bac +1   22       Mbachilé\n",
      "3     Sayaf Hassanaly    Bac +2   21          Hetsa\n"
     ]
    }
   ],
   "source": [
    "#Afficher les premieres lignes \n",
    "print(df.head())\n"
   ]
  },
  {
   "cell_type": "code",
   "execution_count": 147,
   "id": "b0ae0f92-2336-43f2-92d0-bce9d1747792",
   "metadata": {},
   "outputs": [
    {
     "name": "stdout",
     "output_type": "stream",
     "text": [
      "                  Nom    Niveau  Age          Ville\n",
      "0  Hafidhou maoulida     Bac +5   25  Tsinimoipanga\n",
      "1       Fahami Toihir  Doctorat   30       Vouvouni\n",
      "2         Zayyad Said    Bac +1   22       Mbachilé\n",
      "3     Sayaf Hassanaly    Bac +2   21          Hetsa\n"
     ]
    }
   ],
   "source": [
    "#afficher les dernieres lignes \n",
    "print(df.tail())"
   ]
  },
  {
   "cell_type": "code",
   "execution_count": 148,
   "id": "62777ab7-dcef-4c31-96f4-02249e53d60b",
   "metadata": {},
   "outputs": [
    {
     "name": "stdout",
     "output_type": "stream",
     "text": [
      "<class 'pandas.core.frame.DataFrame'>\n",
      "RangeIndex: 4 entries, 0 to 3\n",
      "Data columns (total 4 columns):\n",
      " #   Column  Non-Null Count  Dtype \n",
      "---  ------  --------------  ----- \n",
      " 0   Nom     4 non-null      object\n",
      " 1   Niveau  4 non-null      object\n",
      " 2   Age     4 non-null      int64 \n",
      " 3   Ville   4 non-null      object\n",
      "dtypes: int64(1), object(3)\n",
      "memory usage: 260.0+ bytes\n",
      "None\n"
     ]
    }
   ],
   "source": [
    "#Afficher les informations sur la DataFrame\n",
    "print(df.info())"
   ]
  },
  {
   "cell_type": "code",
   "execution_count": 149,
   "id": "b1e80daf-3197-4c48-859b-263370f10716",
   "metadata": {},
   "outputs": [
    {
     "name": "stdout",
     "output_type": "stream",
     "text": [
      "             Age\n",
      "count   4.000000\n",
      "mean   24.500000\n",
      "std     4.041452\n",
      "min    21.000000\n",
      "25%    21.750000\n",
      "50%    23.500000\n",
      "75%    26.250000\n",
      "max    30.000000\n"
     ]
    }
   ],
   "source": [
    "#Afficher des statistiques descriptives\n",
    "print(df.describe())"
   ]
  },
  {
   "cell_type": "code",
   "execution_count": 150,
   "id": "2ebac129-83d8-4eb8-9844-84942cac5ccb",
   "metadata": {},
   "outputs": [
    {
     "name": "stdout",
     "output_type": "stream",
     "text": [
      "0    Hafidhou maoulida \n",
      "1         Fahami Toihir\n",
      "2           Zayyad Said\n",
      "3       Sayaf Hassanaly\n",
      "Name: Nom, dtype: object\n"
     ]
    }
   ],
   "source": [
    "#Selectionner une colonne\n",
    "print(df['Nom'])"
   ]
  },
  {
   "cell_type": "code",
   "execution_count": 151,
   "id": "435b79ec-d2ff-4918-bb65-c47d64c4f082",
   "metadata": {},
   "outputs": [
    {
     "name": "stdout",
     "output_type": "stream",
     "text": [
      "   Age          Ville\n",
      "0   25  Tsinimoipanga\n",
      "1   30       Vouvouni\n",
      "2   22       Mbachilé\n",
      "3   21          Hetsa\n"
     ]
    }
   ],
   "source": [
    "#Selectionner plusieurs colonnes \n",
    "print(df[['Age','Ville']])"
   ]
  },
  {
   "cell_type": "code",
   "execution_count": 152,
   "id": "333615e5-17ce-4834-8f2b-929271f3d961",
   "metadata": {},
   "outputs": [
    {
     "name": "stdout",
     "output_type": "stream",
     "text": [
      "Nom       Hafidhou maoulida \n",
      "Niveau                Bac +5\n",
      "Age                       25\n",
      "Ville          Tsinimoipanga\n",
      "Name: 0, dtype: object\n"
     ]
    }
   ],
   "source": [
    "#Selectionner des lignes par index \n",
    "print(df.iloc[0]) #Premiere ligne"
   ]
  },
  {
   "cell_type": "code",
   "execution_count": 153,
   "id": "f17ebb2e-cbc4-4937-a870-4dee617be3c7",
   "metadata": {},
   "outputs": [
    {
     "name": "stdout",
     "output_type": "stream",
     "text": [
      "Nom       Fahami Toihir\n",
      "Niveau         Doctorat\n",
      "Age                  30\n",
      "Ville          Vouvouni\n",
      "Name: 1, dtype: object\n"
     ]
    }
   ],
   "source": [
    "#Selectionner des lignes par index \n",
    "print(df.loc[1]) #ligne avec l'index 0"
   ]
  },
  {
   "cell_type": "code",
   "execution_count": 154,
   "id": "fad3d06b-2035-4b90-8b02-150ce8cd81bd",
   "metadata": {},
   "outputs": [
    {
     "name": "stdout",
     "output_type": "stream",
     "text": [
      "             Nom    Niveau  Age     Ville\n",
      "1  Fahami Toihir  Doctorat   30  Vouvouni\n"
     ]
    }
   ],
   "source": [
    "#Filtrer les données\n",
    "print (df[df['Age'] >= 30])"
   ]
  },
  {
   "cell_type": "raw",
   "id": "0915c238-99fb-4ce1-b2e0-684e72c2f06e",
   "metadata": {},
   "source": [
    "Modification des données "
   ]
  },
  {
   "cell_type": "code",
   "execution_count": 157,
   "id": "8aefabdd-0472-4ffe-9ede-a60c0c9c41c6",
   "metadata": {},
   "outputs": [
    {
     "data": {
      "text/html": [
       "<div>\n",
       "<style scoped>\n",
       "    .dataframe tbody tr th:only-of-type {\n",
       "        vertical-align: middle;\n",
       "    }\n",
       "\n",
       "    .dataframe tbody tr th {\n",
       "        vertical-align: top;\n",
       "    }\n",
       "\n",
       "    .dataframe thead th {\n",
       "        text-align: right;\n",
       "    }\n",
       "</style>\n",
       "<table border=\"1\" class=\"dataframe\">\n",
       "  <thead>\n",
       "    <tr style=\"text-align: right;\">\n",
       "      <th></th>\n",
       "      <th>Nom</th>\n",
       "      <th>Niveau</th>\n",
       "      <th>Age</th>\n",
       "      <th>Ville</th>\n",
       "      <th>Moyenne</th>\n",
       "    </tr>\n",
       "  </thead>\n",
       "  <tbody>\n",
       "    <tr>\n",
       "      <th>0</th>\n",
       "      <td>Hafidhou maoulida</td>\n",
       "      <td>Bac +5</td>\n",
       "      <td>25</td>\n",
       "      <td>Tsinimoipanga</td>\n",
       "      <td>13.85</td>\n",
       "    </tr>\n",
       "    <tr>\n",
       "      <th>1</th>\n",
       "      <td>Fahami Toihir</td>\n",
       "      <td>Doctorat</td>\n",
       "      <td>30</td>\n",
       "      <td>Vouvouni</td>\n",
       "      <td>15.00</td>\n",
       "    </tr>\n",
       "    <tr>\n",
       "      <th>2</th>\n",
       "      <td>Zayyad Said</td>\n",
       "      <td>Bac +1</td>\n",
       "      <td>22</td>\n",
       "      <td>Mbachilé</td>\n",
       "      <td>14.90</td>\n",
       "    </tr>\n",
       "    <tr>\n",
       "      <th>3</th>\n",
       "      <td>Sayaf Hassanaly</td>\n",
       "      <td>Bac +2</td>\n",
       "      <td>21</td>\n",
       "      <td>Hetsa</td>\n",
       "      <td>16.00</td>\n",
       "    </tr>\n",
       "  </tbody>\n",
       "</table>\n",
       "</div>"
      ],
      "text/plain": [
       "                  Nom    Niveau  Age          Ville  Moyenne\n",
       "0  Hafidhou maoulida     Bac +5   25  Tsinimoipanga    13.85\n",
       "1       Fahami Toihir  Doctorat   30       Vouvouni    15.00\n",
       "2         Zayyad Said    Bac +1   22       Mbachilé    14.90\n",
       "3     Sayaf Hassanaly    Bac +2   21          Hetsa    16.00"
      ]
     },
     "execution_count": 157,
     "metadata": {},
     "output_type": "execute_result"
    }
   ],
   "source": [
    "#Ajouter une nouvelle colone\n",
    "df['Moyenne'] =[13.85,15,14.90,16]\n",
    "#print(df)\n",
    "df.head()\n",
    "\n"
   ]
  },
  {
   "cell_type": "code",
   "execution_count": 159,
   "id": "2bd6235b-79ad-497f-91cc-b147a35d1ac7",
   "metadata": {},
   "outputs": [
    {
     "data": {
      "text/html": [
       "<div>\n",
       "<style scoped>\n",
       "    .dataframe tbody tr th:only-of-type {\n",
       "        vertical-align: middle;\n",
       "    }\n",
       "\n",
       "    .dataframe tbody tr th {\n",
       "        vertical-align: top;\n",
       "    }\n",
       "\n",
       "    .dataframe thead th {\n",
       "        text-align: right;\n",
       "    }\n",
       "</style>\n",
       "<table border=\"1\" class=\"dataframe\">\n",
       "  <thead>\n",
       "    <tr style=\"text-align: right;\">\n",
       "      <th></th>\n",
       "      <th>Nom</th>\n",
       "      <th>Niveau</th>\n",
       "      <th>Age</th>\n",
       "      <th>Ville</th>\n",
       "      <th>Moyenne</th>\n",
       "      <th>Etablissement</th>\n",
       "    </tr>\n",
       "  </thead>\n",
       "  <tbody>\n",
       "    <tr>\n",
       "      <th>0</th>\n",
       "      <td>Hafidhou maoulida</td>\n",
       "      <td>Bac +5</td>\n",
       "      <td>25</td>\n",
       "      <td>Tsinimoipanga</td>\n",
       "      <td>13.85</td>\n",
       "      <td>Sup'management</td>\n",
       "    </tr>\n",
       "    <tr>\n",
       "      <th>1</th>\n",
       "      <td>Fahami Toihir</td>\n",
       "      <td>Doctorat</td>\n",
       "      <td>30</td>\n",
       "      <td>Vouvouni</td>\n",
       "      <td>15.00</td>\n",
       "      <td>Faculté de Kenetra</td>\n",
       "    </tr>\n",
       "    <tr>\n",
       "      <th>2</th>\n",
       "      <td>Zayyad Said</td>\n",
       "      <td>Bac +1</td>\n",
       "      <td>22</td>\n",
       "      <td>Mbachilé</td>\n",
       "      <td>14.90</td>\n",
       "      <td>Sup'manaement</td>\n",
       "    </tr>\n",
       "    <tr>\n",
       "      <th>3</th>\n",
       "      <td>Sayaf Hassanaly</td>\n",
       "      <td>Bac +2</td>\n",
       "      <td>21</td>\n",
       "      <td>Hetsa</td>\n",
       "      <td>16.00</td>\n",
       "      <td>Dar'Mahrez</td>\n",
       "    </tr>\n",
       "  </tbody>\n",
       "</table>\n",
       "</div>"
      ],
      "text/plain": [
       "                  Nom    Niveau  Age          Ville  Moyenne  \\\n",
       "0  Hafidhou maoulida     Bac +5   25  Tsinimoipanga    13.85   \n",
       "1       Fahami Toihir  Doctorat   30       Vouvouni    15.00   \n",
       "2         Zayyad Said    Bac +1   22       Mbachilé    14.90   \n",
       "3     Sayaf Hassanaly    Bac +2   21          Hetsa    16.00   \n",
       "\n",
       "        Etablissement  \n",
       "0      Sup'management  \n",
       "1  Faculté de Kenetra  \n",
       "2       Sup'manaement  \n",
       "3          Dar'Mahrez  "
      ]
     },
     "execution_count": 159,
     "metadata": {},
     "output_type": "execute_result"
    }
   ],
   "source": [
    "df['Etablissement']=[\"Sup'management\",\"Faculté de Kenetra\",\"Sup'manaement\",\"Dar'Mahrez\"]\n",
    "#print(df)\n",
    "df.head()"
   ]
  },
  {
   "cell_type": "code",
   "execution_count": null,
   "id": "138eee4c-6054-44ae-97d1-35815cc92414",
   "metadata": {},
   "outputs": [],
   "source": [
    "#Modifier une colonne existante\n",
    "df['Age'] = df['Age'] + 1 #Ajout plus +1 l'age"
   ]
  },
  {
   "cell_type": "code",
   "execution_count": 160,
   "id": "5aa77d42-4749-49f0-bcab-e0efef24812d",
   "metadata": {},
   "outputs": [
    {
     "data": {
      "text/html": [
       "<div>\n",
       "<style scoped>\n",
       "    .dataframe tbody tr th:only-of-type {\n",
       "        vertical-align: middle;\n",
       "    }\n",
       "\n",
       "    .dataframe tbody tr th {\n",
       "        vertical-align: top;\n",
       "    }\n",
       "\n",
       "    .dataframe thead th {\n",
       "        text-align: right;\n",
       "    }\n",
       "</style>\n",
       "<table border=\"1\" class=\"dataframe\">\n",
       "  <thead>\n",
       "    <tr style=\"text-align: right;\">\n",
       "      <th></th>\n",
       "      <th>Nom</th>\n",
       "      <th>Niveau</th>\n",
       "      <th>Age</th>\n",
       "      <th>Ville</th>\n",
       "      <th>Moyenne</th>\n",
       "      <th>Etablissement</th>\n",
       "    </tr>\n",
       "  </thead>\n",
       "  <tbody>\n",
       "    <tr>\n",
       "      <th>0</th>\n",
       "      <td>Hafidhou maoulida</td>\n",
       "      <td>Bac +5</td>\n",
       "      <td>25</td>\n",
       "      <td>Tsinimoipanga</td>\n",
       "      <td>13.85</td>\n",
       "      <td>Sup'management</td>\n",
       "    </tr>\n",
       "    <tr>\n",
       "      <th>1</th>\n",
       "      <td>Fahami Toihir</td>\n",
       "      <td>Doctorat</td>\n",
       "      <td>30</td>\n",
       "      <td>Vouvouni</td>\n",
       "      <td>15.00</td>\n",
       "      <td>Faculté de Kenetra</td>\n",
       "    </tr>\n",
       "    <tr>\n",
       "      <th>2</th>\n",
       "      <td>Zayyad Said</td>\n",
       "      <td>Bac +1</td>\n",
       "      <td>22</td>\n",
       "      <td>Mbachilé</td>\n",
       "      <td>14.90</td>\n",
       "      <td>Sup'manaement</td>\n",
       "    </tr>\n",
       "    <tr>\n",
       "      <th>3</th>\n",
       "      <td>Sayaf Hassanaly</td>\n",
       "      <td>Bac +2</td>\n",
       "      <td>21</td>\n",
       "      <td>Hetsa</td>\n",
       "      <td>16.00</td>\n",
       "      <td>Dar'Mahrez</td>\n",
       "    </tr>\n",
       "  </tbody>\n",
       "</table>\n",
       "</div>"
      ],
      "text/plain": [
       "                  Nom    Niveau  Age          Ville  Moyenne  \\\n",
       "0  Hafidhou maoulida     Bac +5   25  Tsinimoipanga    13.85   \n",
       "1       Fahami Toihir  Doctorat   30       Vouvouni    15.00   \n",
       "2         Zayyad Said    Bac +1   22       Mbachilé    14.90   \n",
       "3     Sayaf Hassanaly    Bac +2   21          Hetsa    16.00   \n",
       "\n",
       "        Etablissement  \n",
       "0      Sup'management  \n",
       "1  Faculté de Kenetra  \n",
       "2       Sup'manaement  \n",
       "3          Dar'Mahrez  "
      ]
     },
     "execution_count": 160,
     "metadata": {},
     "output_type": "execute_result"
    }
   ],
   "source": [
    "#print (df)\n",
    "df.head()"
   ]
  },
  {
   "cell_type": "code",
   "execution_count": 166,
   "id": "29475165-c0a5-41cb-a567-3828c46ff463",
   "metadata": {},
   "outputs": [
    {
     "ename": "ValueError",
     "evalue": "No axis named 5 for object type DataFrame",
     "output_type": "error",
     "traceback": [
      "\u001b[1;31m---------------------------------------------------------------------------\u001b[0m",
      "\u001b[1;31mKeyError\u001b[0m                                  Traceback (most recent call last)",
      "\u001b[1;32mC:\\Python\\Python313\\Lib\\site-packages\\pandas\\core\\generic.py\u001b[0m in \u001b[0;36m?\u001b[1;34m(cls, axis)\u001b[0m\n\u001b[0;32m    576\u001b[0m             \u001b[1;32mreturn\u001b[0m \u001b[0mcls\u001b[0m\u001b[1;33m.\u001b[0m\u001b[0m_AXIS_TO_AXIS_NUMBER\u001b[0m\u001b[1;33m[\u001b[0m\u001b[0maxis\u001b[0m\u001b[1;33m]\u001b[0m\u001b[1;33m\u001b[0m\u001b[1;33m\u001b[0m\u001b[0m\n\u001b[0;32m    577\u001b[0m         \u001b[1;32mexcept\u001b[0m \u001b[0mKeyError\u001b[0m\u001b[1;33m:\u001b[0m\u001b[1;33m\u001b[0m\u001b[1;33m\u001b[0m\u001b[0m\n\u001b[1;32m--> 578\u001b[1;33m             \u001b[1;32mraise\u001b[0m \u001b[0mValueError\u001b[0m\u001b[1;33m(\u001b[0m\u001b[1;33mf\"\u001b[0m\u001b[1;33mNo axis named \u001b[0m\u001b[1;33m{\u001b[0m\u001b[0maxis\u001b[0m\u001b[1;33m}\u001b[0m\u001b[1;33m for object type \u001b[0m\u001b[1;33m{\u001b[0m\u001b[0mcls\u001b[0m\u001b[1;33m.\u001b[0m\u001b[0m__name__\u001b[0m\u001b[1;33m}\u001b[0m\u001b[1;33m\"\u001b[0m\u001b[1;33m)\u001b[0m\u001b[1;33m\u001b[0m\u001b[1;33m\u001b[0m\u001b[0m\n\u001b[0m",
      "\u001b[1;31mKeyError\u001b[0m: 5",
      "\nDuring handling of the above exception, another exception occurred:\n",
      "\u001b[1;31mValueError\u001b[0m                                Traceback (most recent call last)",
      "\u001b[1;32m~\\AppData\\Local\\Temp\\ipykernel_14328\\2475366871.py\u001b[0m in \u001b[0;36m?\u001b[1;34m()\u001b[0m\n\u001b[0;32m      1\u001b[0m \u001b[1;31m#supprimer une colonne exixtante\u001b[0m\u001b[1;33m\u001b[0m\u001b[1;33m\u001b[0m\u001b[0m\n\u001b[1;32m----> 2\u001b[1;33m \u001b[0mdf\u001b[0m \u001b[1;33m=\u001b[0m \u001b[0mdf\u001b[0m\u001b[1;33m.\u001b[0m\u001b[0mdrop\u001b[0m\u001b[1;33m(\u001b[0m\u001b[1;34m'Etablissement'\u001b[0m\u001b[1;33m,\u001b[0m \u001b[0maxis\u001b[0m\u001b[1;33m=\u001b[0m\u001b[1;36m5\u001b[0m\u001b[1;33m)\u001b[0m\u001b[1;33m\u001b[0m\u001b[1;33m\u001b[0m\u001b[0m\n\u001b[0m",
      "\u001b[1;32mC:\\Python\\Python313\\Lib\\site-packages\\pandas\\core\\frame.py\u001b[0m in \u001b[0;36m?\u001b[1;34m(self, labels, axis, index, columns, level, inplace, errors)\u001b[0m\n\u001b[0;32m   5577\u001b[0m                 \u001b[0mweight\u001b[0m  \u001b[1;36m250.0\u001b[0m   \u001b[1;36m150.0\u001b[0m\u001b[1;33m\u001b[0m\u001b[1;33m\u001b[0m\u001b[0m\n\u001b[0;32m   5578\u001b[0m         \u001b[0mfalcon\u001b[0m  \u001b[0mspeed\u001b[0m   \u001b[1;36m320.0\u001b[0m   \u001b[1;36m250.0\u001b[0m\u001b[1;33m\u001b[0m\u001b[1;33m\u001b[0m\u001b[0m\n\u001b[0;32m   5579\u001b[0m                 \u001b[0mweight\u001b[0m  \u001b[1;36m1.0\u001b[0m     \u001b[1;36m0.8\u001b[0m\u001b[1;33m\u001b[0m\u001b[1;33m\u001b[0m\u001b[0m\n\u001b[0;32m   5580\u001b[0m         \"\"\"\n\u001b[1;32m-> 5581\u001b[1;33m         return super().drop(\n\u001b[0m\u001b[0;32m   5582\u001b[0m             \u001b[0mlabels\u001b[0m\u001b[1;33m=\u001b[0m\u001b[0mlabels\u001b[0m\u001b[1;33m,\u001b[0m\u001b[1;33m\u001b[0m\u001b[1;33m\u001b[0m\u001b[0m\n\u001b[0;32m   5583\u001b[0m             \u001b[0maxis\u001b[0m\u001b[1;33m=\u001b[0m\u001b[0maxis\u001b[0m\u001b[1;33m,\u001b[0m\u001b[1;33m\u001b[0m\u001b[1;33m\u001b[0m\u001b[0m\n\u001b[0;32m   5584\u001b[0m             \u001b[0mindex\u001b[0m\u001b[1;33m=\u001b[0m\u001b[0mindex\u001b[0m\u001b[1;33m,\u001b[0m\u001b[1;33m\u001b[0m\u001b[1;33m\u001b[0m\u001b[0m\n",
      "\u001b[1;32mC:\\Python\\Python313\\Lib\\site-packages\\pandas\\core\\generic.py\u001b[0m in \u001b[0;36m?\u001b[1;34m(self, labels, axis, index, columns, level, inplace, errors)\u001b[0m\n\u001b[0;32m   4769\u001b[0m \u001b[1;33m\u001b[0m\u001b[0m\n\u001b[0;32m   4770\u001b[0m         \u001b[1;32mif\u001b[0m \u001b[0mlabels\u001b[0m \u001b[1;32mis\u001b[0m \u001b[1;32mnot\u001b[0m \u001b[1;32mNone\u001b[0m\u001b[1;33m:\u001b[0m\u001b[1;33m\u001b[0m\u001b[1;33m\u001b[0m\u001b[0m\n\u001b[0;32m   4771\u001b[0m             \u001b[1;32mif\u001b[0m \u001b[0mindex\u001b[0m \u001b[1;32mis\u001b[0m \u001b[1;32mnot\u001b[0m \u001b[1;32mNone\u001b[0m \u001b[1;32mor\u001b[0m \u001b[0mcolumns\u001b[0m \u001b[1;32mis\u001b[0m \u001b[1;32mnot\u001b[0m \u001b[1;32mNone\u001b[0m\u001b[1;33m:\u001b[0m\u001b[1;33m\u001b[0m\u001b[1;33m\u001b[0m\u001b[0m\n\u001b[0;32m   4772\u001b[0m                 \u001b[1;32mraise\u001b[0m \u001b[0mValueError\u001b[0m\u001b[1;33m(\u001b[0m\u001b[1;34m\"Cannot specify both 'labels' and 'index'/'columns'\"\u001b[0m\u001b[1;33m)\u001b[0m\u001b[1;33m\u001b[0m\u001b[1;33m\u001b[0m\u001b[0m\n\u001b[1;32m-> 4773\u001b[1;33m             \u001b[0maxis_name\u001b[0m \u001b[1;33m=\u001b[0m \u001b[0mself\u001b[0m\u001b[1;33m.\u001b[0m\u001b[0m_get_axis_name\u001b[0m\u001b[1;33m(\u001b[0m\u001b[0maxis\u001b[0m\u001b[1;33m)\u001b[0m\u001b[1;33m\u001b[0m\u001b[1;33m\u001b[0m\u001b[0m\n\u001b[0m\u001b[0;32m   4774\u001b[0m             \u001b[0maxes\u001b[0m \u001b[1;33m=\u001b[0m \u001b[1;33m{\u001b[0m\u001b[0maxis_name\u001b[0m\u001b[1;33m:\u001b[0m \u001b[0mlabels\u001b[0m\u001b[1;33m}\u001b[0m\u001b[1;33m\u001b[0m\u001b[1;33m\u001b[0m\u001b[0m\n\u001b[0;32m   4775\u001b[0m         \u001b[1;32melif\u001b[0m \u001b[0mindex\u001b[0m \u001b[1;32mis\u001b[0m \u001b[1;32mnot\u001b[0m \u001b[1;32mNone\u001b[0m \u001b[1;32mor\u001b[0m \u001b[0mcolumns\u001b[0m \u001b[1;32mis\u001b[0m \u001b[1;32mnot\u001b[0m \u001b[1;32mNone\u001b[0m\u001b[1;33m:\u001b[0m\u001b[1;33m\u001b[0m\u001b[1;33m\u001b[0m\u001b[0m\n\u001b[0;32m   4776\u001b[0m             \u001b[0maxes\u001b[0m \u001b[1;33m=\u001b[0m \u001b[1;33m{\u001b[0m\u001b[1;34m\"index\"\u001b[0m\u001b[1;33m:\u001b[0m \u001b[0mindex\u001b[0m\u001b[1;33m}\u001b[0m\u001b[1;33m\u001b[0m\u001b[1;33m\u001b[0m\u001b[0m\n",
      "\u001b[1;32mC:\\Python\\Python313\\Lib\\site-packages\\pandas\\core\\generic.py\u001b[0m in \u001b[0;36m?\u001b[1;34m(cls, axis)\u001b[0m\n\u001b[0;32m    580\u001b[0m     \u001b[1;33m@\u001b[0m\u001b[0mfinal\u001b[0m\u001b[1;33m\u001b[0m\u001b[1;33m\u001b[0m\u001b[0m\n\u001b[0;32m    581\u001b[0m     \u001b[1;33m@\u001b[0m\u001b[0mclassmethod\u001b[0m\u001b[1;33m\u001b[0m\u001b[1;33m\u001b[0m\u001b[0m\n\u001b[0;32m    582\u001b[0m     \u001b[1;32mdef\u001b[0m \u001b[0m_get_axis_name\u001b[0m\u001b[1;33m(\u001b[0m\u001b[0mcls\u001b[0m\u001b[1;33m,\u001b[0m \u001b[0maxis\u001b[0m\u001b[1;33m:\u001b[0m \u001b[0mAxis\u001b[0m\u001b[1;33m)\u001b[0m \u001b[1;33m->\u001b[0m \u001b[0mLiteral\u001b[0m\u001b[1;33m[\u001b[0m\u001b[1;34m\"index\"\u001b[0m\u001b[1;33m,\u001b[0m \u001b[1;34m\"columns\"\u001b[0m\u001b[1;33m]\u001b[0m\u001b[1;33m:\u001b[0m\u001b[1;33m\u001b[0m\u001b[1;33m\u001b[0m\u001b[0m\n\u001b[1;32m--> 583\u001b[1;33m         \u001b[0maxis_number\u001b[0m \u001b[1;33m=\u001b[0m \u001b[0mcls\u001b[0m\u001b[1;33m.\u001b[0m\u001b[0m_get_axis_number\u001b[0m\u001b[1;33m(\u001b[0m\u001b[0maxis\u001b[0m\u001b[1;33m)\u001b[0m\u001b[1;33m\u001b[0m\u001b[1;33m\u001b[0m\u001b[0m\n\u001b[0m\u001b[0;32m    584\u001b[0m         \u001b[1;32mreturn\u001b[0m \u001b[0mcls\u001b[0m\u001b[1;33m.\u001b[0m\u001b[0m_AXIS_ORDERS\u001b[0m\u001b[1;33m[\u001b[0m\u001b[0maxis_number\u001b[0m\u001b[1;33m]\u001b[0m\u001b[1;33m\u001b[0m\u001b[1;33m\u001b[0m\u001b[0m\n",
      "\u001b[1;32mC:\\Python\\Python313\\Lib\\site-packages\\pandas\\core\\generic.py\u001b[0m in \u001b[0;36m?\u001b[1;34m(cls, axis)\u001b[0m\n\u001b[0;32m    574\u001b[0m     \u001b[1;32mdef\u001b[0m \u001b[0m_get_axis_number\u001b[0m\u001b[1;33m(\u001b[0m\u001b[0mcls\u001b[0m\u001b[1;33m,\u001b[0m \u001b[0maxis\u001b[0m\u001b[1;33m:\u001b[0m \u001b[0mAxis\u001b[0m\u001b[1;33m)\u001b[0m \u001b[1;33m->\u001b[0m \u001b[0mAxisInt\u001b[0m\u001b[1;33m:\u001b[0m\u001b[1;33m\u001b[0m\u001b[1;33m\u001b[0m\u001b[0m\n\u001b[0;32m    575\u001b[0m         \u001b[1;32mtry\u001b[0m\u001b[1;33m:\u001b[0m\u001b[1;33m\u001b[0m\u001b[1;33m\u001b[0m\u001b[0m\n\u001b[0;32m    576\u001b[0m             \u001b[1;32mreturn\u001b[0m \u001b[0mcls\u001b[0m\u001b[1;33m.\u001b[0m\u001b[0m_AXIS_TO_AXIS_NUMBER\u001b[0m\u001b[1;33m[\u001b[0m\u001b[0maxis\u001b[0m\u001b[1;33m]\u001b[0m\u001b[1;33m\u001b[0m\u001b[1;33m\u001b[0m\u001b[0m\n\u001b[0;32m    577\u001b[0m         \u001b[1;32mexcept\u001b[0m \u001b[0mKeyError\u001b[0m\u001b[1;33m:\u001b[0m\u001b[1;33m\u001b[0m\u001b[1;33m\u001b[0m\u001b[0m\n\u001b[1;32m--> 578\u001b[1;33m             \u001b[1;32mraise\u001b[0m \u001b[0mValueError\u001b[0m\u001b[1;33m(\u001b[0m\u001b[1;33mf\"\u001b[0m\u001b[1;33mNo axis named \u001b[0m\u001b[1;33m{\u001b[0m\u001b[0maxis\u001b[0m\u001b[1;33m}\u001b[0m\u001b[1;33m for object type \u001b[0m\u001b[1;33m{\u001b[0m\u001b[0mcls\u001b[0m\u001b[1;33m.\u001b[0m\u001b[0m__name__\u001b[0m\u001b[1;33m}\u001b[0m\u001b[1;33m\"\u001b[0m\u001b[1;33m)\u001b[0m\u001b[1;33m\u001b[0m\u001b[1;33m\u001b[0m\u001b[0m\n\u001b[0m",
      "\u001b[1;31mValueError\u001b[0m: No axis named 5 for object type DataFrame"
     ]
    }
   ],
   "source": [
    "#supprimer une colonne exixtante \n",
    "df = df.drop('Etablissement', axis=5)"
   ]
  },
  {
   "cell_type": "code",
   "execution_count": 167,
   "id": "445ff571-4420-49f5-ae9c-bac2078db2a8",
   "metadata": {},
   "outputs": [
    {
     "data": {
      "text/html": [
       "<div>\n",
       "<style scoped>\n",
       "    .dataframe tbody tr th:only-of-type {\n",
       "        vertical-align: middle;\n",
       "    }\n",
       "\n",
       "    .dataframe tbody tr th {\n",
       "        vertical-align: top;\n",
       "    }\n",
       "\n",
       "    .dataframe thead th {\n",
       "        text-align: right;\n",
       "    }\n",
       "</style>\n",
       "<table border=\"1\" class=\"dataframe\">\n",
       "  <thead>\n",
       "    <tr style=\"text-align: right;\">\n",
       "      <th></th>\n",
       "      <th>Nom</th>\n",
       "      <th>Niveau</th>\n",
       "      <th>Age</th>\n",
       "      <th>Ville</th>\n",
       "      <th>Moyenne</th>\n",
       "    </tr>\n",
       "  </thead>\n",
       "  <tbody>\n",
       "    <tr>\n",
       "      <th>0</th>\n",
       "      <td>Hafidhou maoulida</td>\n",
       "      <td>Bac +5</td>\n",
       "      <td>25</td>\n",
       "      <td>Tsinimoipanga</td>\n",
       "      <td>13.85</td>\n",
       "    </tr>\n",
       "    <tr>\n",
       "      <th>1</th>\n",
       "      <td>Fahami Toihir</td>\n",
       "      <td>Doctorat</td>\n",
       "      <td>30</td>\n",
       "      <td>Vouvouni</td>\n",
       "      <td>15.00</td>\n",
       "    </tr>\n",
       "    <tr>\n",
       "      <th>2</th>\n",
       "      <td>Zayyad Said</td>\n",
       "      <td>Bac +1</td>\n",
       "      <td>22</td>\n",
       "      <td>Mbachilé</td>\n",
       "      <td>14.90</td>\n",
       "    </tr>\n",
       "    <tr>\n",
       "      <th>3</th>\n",
       "      <td>Sayaf Hassanaly</td>\n",
       "      <td>Bac +2</td>\n",
       "      <td>21</td>\n",
       "      <td>Hetsa</td>\n",
       "      <td>16.00</td>\n",
       "    </tr>\n",
       "  </tbody>\n",
       "</table>\n",
       "</div>"
      ],
      "text/plain": [
       "                  Nom    Niveau  Age          Ville  Moyenne\n",
       "0  Hafidhou maoulida     Bac +5   25  Tsinimoipanga    13.85\n",
       "1       Fahami Toihir  Doctorat   30       Vouvouni    15.00\n",
       "2         Zayyad Said    Bac +1   22       Mbachilé    14.90\n",
       "3     Sayaf Hassanaly    Bac +2   21          Hetsa    16.00"
      ]
     },
     "execution_count": 167,
     "metadata": {},
     "output_type": "execute_result"
    }
   ],
   "source": [
    "#print(df)\n",
    "df.head()"
   ]
  },
  {
   "cell_type": "markdown",
   "id": "85e23373-a457-4fdb-a8f1-7c3fead23321",
   "metadata": {},
   "source": [
    "Gestion des valeurs manquantes"
   ]
  },
  {
   "cell_type": "code",
   "execution_count": 168,
   "id": "766fbc4d-82e0-419e-929d-3c3eac642b07",
   "metadata": {},
   "outputs": [
    {
     "name": "stdout",
     "output_type": "stream",
     "text": [
      "     Nom  Niveau    Age  Ville  Moyenne\n",
      "0  False   False  False  False    False\n",
      "1  False   False  False  False    False\n",
      "2  False   False  False  False    False\n",
      "3  False   False  False  False    False\n"
     ]
    }
   ],
   "source": [
    "#Verifier les valeurs manquantes\n",
    "print(df.isnull())"
   ]
  },
  {
   "cell_type": "code",
   "execution_count": 172,
   "id": "959592bf-d6af-4b2d-beac-486c5c8d5cc9",
   "metadata": {},
   "outputs": [
    {
     "data": {
      "text/html": [
       "<div>\n",
       "<style scoped>\n",
       "    .dataframe tbody tr th:only-of-type {\n",
       "        vertical-align: middle;\n",
       "    }\n",
       "\n",
       "    .dataframe tbody tr th {\n",
       "        vertical-align: top;\n",
       "    }\n",
       "\n",
       "    .dataframe thead th {\n",
       "        text-align: right;\n",
       "    }\n",
       "</style>\n",
       "<table border=\"1\" class=\"dataframe\">\n",
       "  <thead>\n",
       "    <tr style=\"text-align: right;\">\n",
       "      <th></th>\n",
       "      <th>Nom</th>\n",
       "      <th>Niveau</th>\n",
       "      <th>Age</th>\n",
       "      <th>Ville</th>\n",
       "      <th>Moyenne</th>\n",
       "    </tr>\n",
       "  </thead>\n",
       "  <tbody>\n",
       "    <tr>\n",
       "      <th>0</th>\n",
       "      <td>Hafidhou maoulida</td>\n",
       "      <td>Bac +5</td>\n",
       "      <td>25</td>\n",
       "      <td>Tsinimoipanga</td>\n",
       "      <td>13.85</td>\n",
       "    </tr>\n",
       "    <tr>\n",
       "      <th>1</th>\n",
       "      <td>Fahami Toihir</td>\n",
       "      <td>Doctorat</td>\n",
       "      <td>30</td>\n",
       "      <td>Vouvouni</td>\n",
       "      <td>15.00</td>\n",
       "    </tr>\n",
       "    <tr>\n",
       "      <th>2</th>\n",
       "      <td>Zayyad Said</td>\n",
       "      <td>Bac +1</td>\n",
       "      <td>22</td>\n",
       "      <td>Mbachilé</td>\n",
       "      <td>14.90</td>\n",
       "    </tr>\n",
       "    <tr>\n",
       "      <th>3</th>\n",
       "      <td>Sayaf Hassanaly</td>\n",
       "      <td>Bac +2</td>\n",
       "      <td>21</td>\n",
       "      <td>Hetsa</td>\n",
       "      <td>16.00</td>\n",
       "    </tr>\n",
       "  </tbody>\n",
       "</table>\n",
       "</div>"
      ],
      "text/plain": [
       "                  Nom    Niveau  Age          Ville  Moyenne\n",
       "0  Hafidhou maoulida     Bac +5   25  Tsinimoipanga    13.85\n",
       "1       Fahami Toihir  Doctorat   30       Vouvouni    15.00\n",
       "2         Zayyad Said    Bac +1   22       Mbachilé    14.90\n",
       "3     Sayaf Hassanaly    Bac +2   21          Hetsa    16.00"
      ]
     },
     "execution_count": 172,
     "metadata": {},
     "output_type": "execute_result"
    }
   ],
   "source": [
    "#Supprimer les lignes avec des valeurs manquantes \n",
    "df =df.dropna()\n",
    "df.head()"
   ]
  },
  {
   "cell_type": "code",
   "execution_count": 173,
   "id": "65791d73-01c6-454c-a8a7-e5e187ec1f8d",
   "metadata": {},
   "outputs": [
    {
     "data": {
      "text/html": [
       "<div>\n",
       "<style scoped>\n",
       "    .dataframe tbody tr th:only-of-type {\n",
       "        vertical-align: middle;\n",
       "    }\n",
       "\n",
       "    .dataframe tbody tr th {\n",
       "        vertical-align: top;\n",
       "    }\n",
       "\n",
       "    .dataframe thead th {\n",
       "        text-align: right;\n",
       "    }\n",
       "</style>\n",
       "<table border=\"1\" class=\"dataframe\">\n",
       "  <thead>\n",
       "    <tr style=\"text-align: right;\">\n",
       "      <th></th>\n",
       "      <th>Nom</th>\n",
       "      <th>Niveau</th>\n",
       "      <th>Age</th>\n",
       "      <th>Ville</th>\n",
       "      <th>Moyenne</th>\n",
       "    </tr>\n",
       "  </thead>\n",
       "  <tbody>\n",
       "    <tr>\n",
       "      <th>0</th>\n",
       "      <td>Hafidhou maoulida</td>\n",
       "      <td>Bac +5</td>\n",
       "      <td>25</td>\n",
       "      <td>Tsinimoipanga</td>\n",
       "      <td>13.85</td>\n",
       "    </tr>\n",
       "    <tr>\n",
       "      <th>1</th>\n",
       "      <td>Fahami Toihir</td>\n",
       "      <td>Doctorat</td>\n",
       "      <td>30</td>\n",
       "      <td>Vouvouni</td>\n",
       "      <td>15.00</td>\n",
       "    </tr>\n",
       "    <tr>\n",
       "      <th>2</th>\n",
       "      <td>Zayyad Said</td>\n",
       "      <td>Bac +1</td>\n",
       "      <td>22</td>\n",
       "      <td>Mbachilé</td>\n",
       "      <td>14.90</td>\n",
       "    </tr>\n",
       "    <tr>\n",
       "      <th>3</th>\n",
       "      <td>Sayaf Hassanaly</td>\n",
       "      <td>Bac +2</td>\n",
       "      <td>21</td>\n",
       "      <td>Hetsa</td>\n",
       "      <td>16.00</td>\n",
       "    </tr>\n",
       "  </tbody>\n",
       "</table>\n",
       "</div>"
      ],
      "text/plain": [
       "                  Nom    Niveau  Age          Ville  Moyenne\n",
       "0  Hafidhou maoulida     Bac +5   25  Tsinimoipanga    13.85\n",
       "1       Fahami Toihir  Doctorat   30       Vouvouni    15.00\n",
       "2         Zayyad Said    Bac +1   22       Mbachilé    14.90\n",
       "3     Sayaf Hassanaly    Bac +2   21          Hetsa    16.00"
      ]
     },
     "execution_count": 173,
     "metadata": {},
     "output_type": "execute_result"
    }
   ],
   "source": [
    "#print(df)\n",
    "df.head()"
   ]
  },
  {
   "cell_type": "code",
   "execution_count": 174,
   "id": "e8a074ed-1a9e-4ac3-88d3-6989ff128082",
   "metadata": {},
   "outputs": [],
   "source": [
    "#Remplacer les valeurs manquantes \n",
    "df= df.fillna(0)"
   ]
  },
  {
   "cell_type": "code",
   "execution_count": 175,
   "id": "69ce39a5-9890-41ec-807c-0496412eb8d3",
   "metadata": {},
   "outputs": [
    {
     "data": {
      "text/html": [
       "<div>\n",
       "<style scoped>\n",
       "    .dataframe tbody tr th:only-of-type {\n",
       "        vertical-align: middle;\n",
       "    }\n",
       "\n",
       "    .dataframe tbody tr th {\n",
       "        vertical-align: top;\n",
       "    }\n",
       "\n",
       "    .dataframe thead th {\n",
       "        text-align: right;\n",
       "    }\n",
       "</style>\n",
       "<table border=\"1\" class=\"dataframe\">\n",
       "  <thead>\n",
       "    <tr style=\"text-align: right;\">\n",
       "      <th></th>\n",
       "      <th>Nom</th>\n",
       "      <th>Niveau</th>\n",
       "      <th>Age</th>\n",
       "      <th>Ville</th>\n",
       "      <th>Moyenne</th>\n",
       "    </tr>\n",
       "  </thead>\n",
       "  <tbody>\n",
       "    <tr>\n",
       "      <th>0</th>\n",
       "      <td>Hafidhou maoulida</td>\n",
       "      <td>Bac +5</td>\n",
       "      <td>25</td>\n",
       "      <td>Tsinimoipanga</td>\n",
       "      <td>13.85</td>\n",
       "    </tr>\n",
       "    <tr>\n",
       "      <th>1</th>\n",
       "      <td>Fahami Toihir</td>\n",
       "      <td>Doctorat</td>\n",
       "      <td>30</td>\n",
       "      <td>Vouvouni</td>\n",
       "      <td>15.00</td>\n",
       "    </tr>\n",
       "    <tr>\n",
       "      <th>2</th>\n",
       "      <td>Zayyad Said</td>\n",
       "      <td>Bac +1</td>\n",
       "      <td>22</td>\n",
       "      <td>Mbachilé</td>\n",
       "      <td>14.90</td>\n",
       "    </tr>\n",
       "    <tr>\n",
       "      <th>3</th>\n",
       "      <td>Sayaf Hassanaly</td>\n",
       "      <td>Bac +2</td>\n",
       "      <td>21</td>\n",
       "      <td>Hetsa</td>\n",
       "      <td>16.00</td>\n",
       "    </tr>\n",
       "  </tbody>\n",
       "</table>\n",
       "</div>"
      ],
      "text/plain": [
       "                  Nom    Niveau  Age          Ville  Moyenne\n",
       "0  Hafidhou maoulida     Bac +5   25  Tsinimoipanga    13.85\n",
       "1       Fahami Toihir  Doctorat   30       Vouvouni    15.00\n",
       "2         Zayyad Said    Bac +1   22       Mbachilé    14.90\n",
       "3     Sayaf Hassanaly    Bac +2   21          Hetsa    16.00"
      ]
     },
     "execution_count": 175,
     "metadata": {},
     "output_type": "execute_result"
    }
   ],
   "source": [
    "#print (df)\n",
    "df.head()"
   ]
  },
  {
   "cell_type": "markdown",
   "id": "a215f22d-8657-4964-92b4-da2887db9d30",
   "metadata": {},
   "source": [
    "Agrégation et regroupement"
   ]
  },
  {
   "cell_type": "code",
   "execution_count": 176,
   "id": "c8981f2a-fe41-4835-b2b1-afc44b140a05",
   "metadata": {},
   "outputs": [
    {
     "name": "stdout",
     "output_type": "stream",
     "text": [
      "24.5\n"
     ]
    }
   ],
   "source": [
    "#Calculer la moyenne d'une colonne\n",
    "print(df['Age'].mean())"
   ]
  },
  {
   "cell_type": "code",
   "execution_count": 177,
   "id": "3de781fe-19c0-482c-9baf-eef7d6c5a08c",
   "metadata": {},
   "outputs": [
    {
     "name": "stdout",
     "output_type": "stream",
     "text": [
      "Ville\n",
      "Hetsa            21.0\n",
      "Mbachilé         22.0\n",
      "Tsinimoipanga    25.0\n",
      "Vouvouni         30.0\n",
      "Name: Age, dtype: float64\n"
     ]
    }
   ],
   "source": [
    "#Grouper par colonne et calculer des statiques\n",
    "print(df.groupby('Ville')['Age'].mean())"
   ]
  },
  {
   "cell_type": "markdown",
   "id": "eae0336d-d0b2-4124-b4e9-c074f0533355",
   "metadata": {},
   "source": [
    "Tri des données"
   ]
  },
  {
   "cell_type": "code",
   "execution_count": 178,
   "id": "05ce7e62-b053-4d3b-987b-49712899be13",
   "metadata": {},
   "outputs": [
    {
     "data": {
      "text/html": [
       "<div>\n",
       "<style scoped>\n",
       "    .dataframe tbody tr th:only-of-type {\n",
       "        vertical-align: middle;\n",
       "    }\n",
       "\n",
       "    .dataframe tbody tr th {\n",
       "        vertical-align: top;\n",
       "    }\n",
       "\n",
       "    .dataframe thead th {\n",
       "        text-align: right;\n",
       "    }\n",
       "</style>\n",
       "<table border=\"1\" class=\"dataframe\">\n",
       "  <thead>\n",
       "    <tr style=\"text-align: right;\">\n",
       "      <th></th>\n",
       "      <th>Nom</th>\n",
       "      <th>Niveau</th>\n",
       "      <th>Age</th>\n",
       "      <th>Ville</th>\n",
       "      <th>Moyenne</th>\n",
       "    </tr>\n",
       "  </thead>\n",
       "  <tbody>\n",
       "    <tr>\n",
       "      <th>1</th>\n",
       "      <td>Fahami Toihir</td>\n",
       "      <td>Doctorat</td>\n",
       "      <td>30</td>\n",
       "      <td>Vouvouni</td>\n",
       "      <td>15.00</td>\n",
       "    </tr>\n",
       "    <tr>\n",
       "      <th>0</th>\n",
       "      <td>Hafidhou maoulida</td>\n",
       "      <td>Bac +5</td>\n",
       "      <td>25</td>\n",
       "      <td>Tsinimoipanga</td>\n",
       "      <td>13.85</td>\n",
       "    </tr>\n",
       "    <tr>\n",
       "      <th>2</th>\n",
       "      <td>Zayyad Said</td>\n",
       "      <td>Bac +1</td>\n",
       "      <td>22</td>\n",
       "      <td>Mbachilé</td>\n",
       "      <td>14.90</td>\n",
       "    </tr>\n",
       "    <tr>\n",
       "      <th>3</th>\n",
       "      <td>Sayaf Hassanaly</td>\n",
       "      <td>Bac +2</td>\n",
       "      <td>21</td>\n",
       "      <td>Hetsa</td>\n",
       "      <td>16.00</td>\n",
       "    </tr>\n",
       "  </tbody>\n",
       "</table>\n",
       "</div>"
      ],
      "text/plain": [
       "                  Nom    Niveau  Age          Ville  Moyenne\n",
       "1       Fahami Toihir  Doctorat   30       Vouvouni    15.00\n",
       "0  Hafidhou maoulida     Bac +5   25  Tsinimoipanga    13.85\n",
       "2         Zayyad Said    Bac +1   22       Mbachilé    14.90\n",
       "3     Sayaf Hassanaly    Bac +2   21          Hetsa    16.00"
      ]
     },
     "execution_count": 178,
     "metadata": {},
     "output_type": "execute_result"
    }
   ],
   "source": [
    "#Trier par colonne\n",
    "df= df.sort_values(by='Age',ascending=False) #trier par ordre croissant \n",
    "#print(df)\n",
    "df.head()"
   ]
  },
  {
   "cell_type": "raw",
   "id": "f5c2f326-9d4a-4007-b516-3204593c610c",
   "metadata": {},
   "source": [
    "Exportation des données"
   ]
  },
  {
   "cell_type": "code",
   "execution_count": 179,
   "id": "c3d1bab5-ad00-49be-ac39-92c88dc5282a",
   "metadata": {},
   "outputs": [],
   "source": [
    "#Exporter en CSV\n",
    "df.to_csv('nouveau_fichier.csv', index=False)\n"
   ]
  },
  {
   "cell_type": "code",
   "execution_count": 180,
   "id": "1e9487c9-ba30-4da6-98ac-ac29fb8e6bf0",
   "metadata": {},
   "outputs": [],
   "source": [
    "#Exporter en Excel\n",
    "df.to_excel('nouveau_fichier.xlsx', index=False)"
   ]
  },
  {
   "cell_type": "raw",
   "id": "6641f0fe-bf36-45d8-8c2f-9cc9240afca4",
   "metadata": {},
   "source": [
    "Le 10-02-2025\n",
    "Ajout  de nouvelles enregistrements"
   ]
  },
  {
   "cell_type": "code",
   "execution_count": 218,
   "id": "cee49b38-181b-4933-b493-4c9f13757b60",
   "metadata": {},
   "outputs": [
    {
     "data": {
      "text/html": [
       "<div>\n",
       "<style scoped>\n",
       "    .dataframe tbody tr th:only-of-type {\n",
       "        vertical-align: middle;\n",
       "    }\n",
       "\n",
       "    .dataframe tbody tr th {\n",
       "        vertical-align: top;\n",
       "    }\n",
       "\n",
       "    .dataframe thead th {\n",
       "        text-align: right;\n",
       "    }\n",
       "</style>\n",
       "<table border=\"1\" class=\"dataframe\">\n",
       "  <thead>\n",
       "    <tr style=\"text-align: right;\">\n",
       "      <th></th>\n",
       "      <th>Nom</th>\n",
       "      <th>Niveau</th>\n",
       "      <th>Age</th>\n",
       "      <th>Ville</th>\n",
       "      <th>Nivau</th>\n",
       "      <th>Etablissement</th>\n",
       "    </tr>\n",
       "  </thead>\n",
       "  <tbody>\n",
       "    <tr>\n",
       "      <th>0</th>\n",
       "      <td>Hafidhou maoulida</td>\n",
       "      <td>Bac +5</td>\n",
       "      <td>25</td>\n",
       "      <td>Tsinimoipanga</td>\n",
       "      <td>NaN</td>\n",
       "      <td>NaN</td>\n",
       "    </tr>\n",
       "    <tr>\n",
       "      <th>1</th>\n",
       "      <td>Fahami Toihir</td>\n",
       "      <td>Doctorat</td>\n",
       "      <td>30</td>\n",
       "      <td>Vouvouni</td>\n",
       "      <td>NaN</td>\n",
       "      <td>NaN</td>\n",
       "    </tr>\n",
       "    <tr>\n",
       "      <th>2</th>\n",
       "      <td>Zayyad Said</td>\n",
       "      <td>Bac +1</td>\n",
       "      <td>22</td>\n",
       "      <td>Mbachilé</td>\n",
       "      <td>NaN</td>\n",
       "      <td>NaN</td>\n",
       "    </tr>\n",
       "    <tr>\n",
       "      <th>3</th>\n",
       "      <td>Sayaf Hassanaly</td>\n",
       "      <td>Bac +2</td>\n",
       "      <td>21</td>\n",
       "      <td>Hetsa</td>\n",
       "      <td>NaN</td>\n",
       "      <td>NaN</td>\n",
       "    </tr>\n",
       "    <tr>\n",
       "      <th>4</th>\n",
       "      <td>Samir Soule</td>\n",
       "      <td>NaN</td>\n",
       "      <td>23</td>\n",
       "      <td>Diboini</td>\n",
       "      <td>Bac +3</td>\n",
       "      <td>Dar_Mahrez</td>\n",
       "    </tr>\n",
       "    <tr>\n",
       "      <th>5</th>\n",
       "      <td>Samir Soule</td>\n",
       "      <td>NaN</td>\n",
       "      <td>23</td>\n",
       "      <td>Diboini</td>\n",
       "      <td>Bac +3</td>\n",
       "      <td>Dar_Mahrez</td>\n",
       "    </tr>\n",
       "    <tr>\n",
       "      <th>6</th>\n",
       "      <td>Samir Soule</td>\n",
       "      <td>NaN</td>\n",
       "      <td>23</td>\n",
       "      <td>Diboini</td>\n",
       "      <td>Bac +3</td>\n",
       "      <td>Dar_Mahrez</td>\n",
       "    </tr>\n",
       "    <tr>\n",
       "      <th>7</th>\n",
       "      <td>Samir Soule</td>\n",
       "      <td>NaN</td>\n",
       "      <td>23</td>\n",
       "      <td>Diboini</td>\n",
       "      <td>Bac +3</td>\n",
       "      <td>Dar_Mahrez</td>\n",
       "    </tr>\n",
       "    <tr>\n",
       "      <th>8</th>\n",
       "      <td>Samir Soule</td>\n",
       "      <td>NaN</td>\n",
       "      <td>23</td>\n",
       "      <td>Diboini</td>\n",
       "      <td>Bac +3</td>\n",
       "      <td>Dar_Mahrez</td>\n",
       "    </tr>\n",
       "    <tr>\n",
       "      <th>9</th>\n",
       "      <td>Samir Soule</td>\n",
       "      <td>NaN</td>\n",
       "      <td>23</td>\n",
       "      <td>Diboini</td>\n",
       "      <td>Bac +3</td>\n",
       "      <td>Dar_Mahrez</td>\n",
       "    </tr>\n",
       "    <tr>\n",
       "      <th>10</th>\n",
       "      <td>Samir Soule</td>\n",
       "      <td>NaN</td>\n",
       "      <td>23</td>\n",
       "      <td>Diboini</td>\n",
       "      <td>Bac +3</td>\n",
       "      <td>Dar_Mahrez</td>\n",
       "    </tr>\n",
       "  </tbody>\n",
       "</table>\n",
       "</div>"
      ],
      "text/plain": [
       "                   Nom    Niveau  Age          Ville   Nivau Etablissement\n",
       "0   Hafidhou maoulida     Bac +5   25  Tsinimoipanga     NaN           NaN\n",
       "1        Fahami Toihir  Doctorat   30       Vouvouni     NaN           NaN\n",
       "2          Zayyad Said    Bac +1   22       Mbachilé     NaN           NaN\n",
       "3      Sayaf Hassanaly    Bac +2   21          Hetsa     NaN           NaN\n",
       "4          Samir Soule       NaN   23        Diboini  Bac +3    Dar_Mahrez\n",
       "5          Samir Soule       NaN   23        Diboini  Bac +3    Dar_Mahrez\n",
       "6          Samir Soule       NaN   23        Diboini  Bac +3    Dar_Mahrez\n",
       "7          Samir Soule       NaN   23        Diboini  Bac +3    Dar_Mahrez\n",
       "8          Samir Soule       NaN   23        Diboini  Bac +3    Dar_Mahrez\n",
       "9          Samir Soule       NaN   23        Diboini  Bac +3    Dar_Mahrez\n",
       "10         Samir Soule       NaN   23        Diboini  Bac +3    Dar_Mahrez"
      ]
     },
     "execution_count": 218,
     "metadata": {},
     "output_type": "execute_result"
    }
   ],
   "source": [
    "#Creeons une nouvelle lignes \n",
    "News_rows=pd.DataFrame({\n",
    "             'Nom':['Samir Soule'],\n",
    "             'Nivau':['Bac +3'],\n",
    "             'Age':[23],\n",
    "             'Ville':['Diboini'],\n",
    "             'Etablissement':['Dar_Mahrez']})\n",
    "              \n",
    "\n",
    "data=data._append(News_rows,ignore_index = True) #Le \"ignore_index=True\" si les données sont correctes il ajout la nouvelle enregistrement a la fin\n",
    "data\n",
    "         "
   ]
  },
  {
   "cell_type": "code",
   "execution_count": 247,
   "id": "181e8a47-a058-4552-a766-6460853a47c1",
   "metadata": {},
   "outputs": [
    {
     "ename": "KeyError",
     "evalue": "'Etablissement'",
     "output_type": "error",
     "traceback": [
      "\u001b[1;31m---------------------------------------------------------------------------\u001b[0m",
      "\u001b[1;31mKeyError\u001b[0m                                  Traceback (most recent call last)",
      "File \u001b[1;32mC:\\Python\\Python313\\Lib\\site-packages\\pandas\\core\\indexes\\base.py:3805\u001b[0m, in \u001b[0;36mIndex.get_loc\u001b[1;34m(self, key)\u001b[0m\n\u001b[0;32m   3804\u001b[0m \u001b[38;5;28;01mtry\u001b[39;00m:\n\u001b[1;32m-> 3805\u001b[0m     \u001b[38;5;28;01mreturn\u001b[39;00m \u001b[38;5;28;43mself\u001b[39;49m\u001b[38;5;241;43m.\u001b[39;49m\u001b[43m_engine\u001b[49m\u001b[38;5;241;43m.\u001b[39;49m\u001b[43mget_loc\u001b[49m\u001b[43m(\u001b[49m\u001b[43mcasted_key\u001b[49m\u001b[43m)\u001b[49m\n\u001b[0;32m   3806\u001b[0m \u001b[38;5;28;01mexcept\u001b[39;00m \u001b[38;5;167;01mKeyError\u001b[39;00m \u001b[38;5;28;01mas\u001b[39;00m err:\n",
      "File \u001b[1;32mindex.pyx:167\u001b[0m, in \u001b[0;36mpandas._libs.index.IndexEngine.get_loc\u001b[1;34m()\u001b[0m\n",
      "File \u001b[1;32mindex.pyx:196\u001b[0m, in \u001b[0;36mpandas._libs.index.IndexEngine.get_loc\u001b[1;34m()\u001b[0m\n",
      "File \u001b[1;32mpandas\\\\_libs\\\\hashtable_class_helper.pxi:7081\u001b[0m, in \u001b[0;36mpandas._libs.hashtable.PyObjectHashTable.get_item\u001b[1;34m()\u001b[0m\n",
      "File \u001b[1;32mpandas\\\\_libs\\\\hashtable_class_helper.pxi:7089\u001b[0m, in \u001b[0;36mpandas._libs.hashtable.PyObjectHashTable.get_item\u001b[1;34m()\u001b[0m\n",
      "\u001b[1;31mKeyError\u001b[0m: 'Etablissement'",
      "\nThe above exception was the direct cause of the following exception:\n",
      "\u001b[1;31mKeyError\u001b[0m                                  Traceback (most recent call last)",
      "Cell \u001b[1;32mIn[247], line 1\u001b[0m\n\u001b[1;32m----> 1\u001b[0m \u001b[43mdf\u001b[49m\u001b[43m[\u001b[49m\u001b[38;5;124;43m'\u001b[39;49m\u001b[38;5;124;43mEtablissement\u001b[39;49m\u001b[38;5;124;43m'\u001b[39;49m\u001b[43m]\u001b[49m\u001b[38;5;241m.\u001b[39mfillna(\u001b[38;5;124m'\u001b[39m\u001b[38;5;124m'\u001b[39m,inplace\u001b[38;5;241m=\u001b[39m\u001b[38;5;28;01mTrue\u001b[39;00m)\n\u001b[0;32m      2\u001b[0m \u001b[38;5;28mprint\u001b[39m(df)\n",
      "File \u001b[1;32mC:\\Python\\Python313\\Lib\\site-packages\\pandas\\core\\frame.py:4102\u001b[0m, in \u001b[0;36mDataFrame.__getitem__\u001b[1;34m(self, key)\u001b[0m\n\u001b[0;32m   4100\u001b[0m \u001b[38;5;28;01mif\u001b[39;00m \u001b[38;5;28mself\u001b[39m\u001b[38;5;241m.\u001b[39mcolumns\u001b[38;5;241m.\u001b[39mnlevels \u001b[38;5;241m>\u001b[39m \u001b[38;5;241m1\u001b[39m:\n\u001b[0;32m   4101\u001b[0m     \u001b[38;5;28;01mreturn\u001b[39;00m \u001b[38;5;28mself\u001b[39m\u001b[38;5;241m.\u001b[39m_getitem_multilevel(key)\n\u001b[1;32m-> 4102\u001b[0m indexer \u001b[38;5;241m=\u001b[39m \u001b[38;5;28;43mself\u001b[39;49m\u001b[38;5;241;43m.\u001b[39;49m\u001b[43mcolumns\u001b[49m\u001b[38;5;241;43m.\u001b[39;49m\u001b[43mget_loc\u001b[49m\u001b[43m(\u001b[49m\u001b[43mkey\u001b[49m\u001b[43m)\u001b[49m\n\u001b[0;32m   4103\u001b[0m \u001b[38;5;28;01mif\u001b[39;00m is_integer(indexer):\n\u001b[0;32m   4104\u001b[0m     indexer \u001b[38;5;241m=\u001b[39m [indexer]\n",
      "File \u001b[1;32mC:\\Python\\Python313\\Lib\\site-packages\\pandas\\core\\indexes\\base.py:3812\u001b[0m, in \u001b[0;36mIndex.get_loc\u001b[1;34m(self, key)\u001b[0m\n\u001b[0;32m   3807\u001b[0m     \u001b[38;5;28;01mif\u001b[39;00m \u001b[38;5;28misinstance\u001b[39m(casted_key, \u001b[38;5;28mslice\u001b[39m) \u001b[38;5;129;01mor\u001b[39;00m (\n\u001b[0;32m   3808\u001b[0m         \u001b[38;5;28misinstance\u001b[39m(casted_key, abc\u001b[38;5;241m.\u001b[39mIterable)\n\u001b[0;32m   3809\u001b[0m         \u001b[38;5;129;01mand\u001b[39;00m \u001b[38;5;28many\u001b[39m(\u001b[38;5;28misinstance\u001b[39m(x, \u001b[38;5;28mslice\u001b[39m) \u001b[38;5;28;01mfor\u001b[39;00m x \u001b[38;5;129;01min\u001b[39;00m casted_key)\n\u001b[0;32m   3810\u001b[0m     ):\n\u001b[0;32m   3811\u001b[0m         \u001b[38;5;28;01mraise\u001b[39;00m InvalidIndexError(key)\n\u001b[1;32m-> 3812\u001b[0m     \u001b[38;5;28;01mraise\u001b[39;00m \u001b[38;5;167;01mKeyError\u001b[39;00m(key) \u001b[38;5;28;01mfrom\u001b[39;00m \u001b[38;5;21;01merr\u001b[39;00m\n\u001b[0;32m   3813\u001b[0m \u001b[38;5;28;01mexcept\u001b[39;00m \u001b[38;5;167;01mTypeError\u001b[39;00m:\n\u001b[0;32m   3814\u001b[0m     \u001b[38;5;66;03m# If we have a listlike key, _check_indexing_error will raise\u001b[39;00m\n\u001b[0;32m   3815\u001b[0m     \u001b[38;5;66;03m#  InvalidIndexError. Otherwise we fall through and re-raise\u001b[39;00m\n\u001b[0;32m   3816\u001b[0m     \u001b[38;5;66;03m#  the TypeError.\u001b[39;00m\n\u001b[0;32m   3817\u001b[0m     \u001b[38;5;28mself\u001b[39m\u001b[38;5;241m.\u001b[39m_check_indexing_error(key)\n",
      "\u001b[1;31mKeyError\u001b[0m: 'Etablissement'"
     ]
    }
   ],
   "source": [
    "#Remplacer les NaN dans une colonne specifique  \n",
    "df['Etablissement'].fillna('',inplace=True)\n",
    "print(df)"
   ]
  },
  {
   "cell_type": "code",
   "execution_count": 235,
   "id": "47d2cc16-72f4-4d7f-9af8-505141b005cd",
   "metadata": {},
   "outputs": [
    {
     "data": {
      "text/html": [
       "<div>\n",
       "<style scoped>\n",
       "    .dataframe tbody tr th:only-of-type {\n",
       "        vertical-align: middle;\n",
       "    }\n",
       "\n",
       "    .dataframe tbody tr th {\n",
       "        vertical-align: top;\n",
       "    }\n",
       "\n",
       "    .dataframe thead th {\n",
       "        text-align: right;\n",
       "    }\n",
       "</style>\n",
       "<table border=\"1\" class=\"dataframe\">\n",
       "  <thead>\n",
       "    <tr style=\"text-align: right;\">\n",
       "      <th></th>\n",
       "      <th>Nom</th>\n",
       "      <th>Niveau</th>\n",
       "      <th>Age</th>\n",
       "      <th>Ville</th>\n",
       "      <th>Numero téléphone</th>\n",
       "    </tr>\n",
       "  </thead>\n",
       "  <tbody>\n",
       "    <tr>\n",
       "      <th>0</th>\n",
       "      <td>Hafidhou maoulida</td>\n",
       "      <td>Bac +5</td>\n",
       "      <td>25</td>\n",
       "      <td>Tsinimoipanga</td>\n",
       "      <td>0612345675</td>\n",
       "    </tr>\n",
       "    <tr>\n",
       "      <th>1</th>\n",
       "      <td>Fahami Toihir</td>\n",
       "      <td>Doctorat</td>\n",
       "      <td>30</td>\n",
       "      <td>Vouvouni</td>\n",
       "      <td>0649769646</td>\n",
       "    </tr>\n",
       "    <tr>\n",
       "      <th>2</th>\n",
       "      <td>Zayyad Said</td>\n",
       "      <td>Bac +1</td>\n",
       "      <td>22</td>\n",
       "      <td>Mbachilé</td>\n",
       "      <td>0745678765</td>\n",
       "    </tr>\n",
       "    <tr>\n",
       "      <th>3</th>\n",
       "      <td>Sayaf Hassanaly</td>\n",
       "      <td>Bac +2</td>\n",
       "      <td>21</td>\n",
       "      <td>Hetsa</td>\n",
       "      <td>0544349534</td>\n",
       "    </tr>\n",
       "  </tbody>\n",
       "</table>\n",
       "</div>"
      ],
      "text/plain": [
       "                  Nom    Niveau  Age          Ville Numero téléphone\n",
       "0  Hafidhou maoulida     Bac +5   25  Tsinimoipanga       0612345675\n",
       "1       Fahami Toihir  Doctorat   30       Vouvouni       0649769646\n",
       "2         Zayyad Said    Bac +1   22       Mbachilé       0745678765\n",
       "3     Sayaf Hassanaly    Bac +2   21          Hetsa       0544349534"
      ]
     },
     "execution_count": 235,
     "metadata": {},
     "output_type": "execute_result"
    }
   ],
   "source": [
    "df.drop_duplicates(subset =\"Niveau\", keep = 'first', inplace=True)\n",
    "df.head()"
   ]
  },
  {
   "cell_type": "code",
   "execution_count": 236,
   "id": "ac5c4513-8dc8-45f9-be94-007ccb823b6b",
   "metadata": {},
   "outputs": [
    {
     "data": {
      "text/plain": [
       "0    False\n",
       "1    False\n",
       "2    False\n",
       "3    False\n",
       "dtype: bool"
      ]
     },
     "execution_count": 236,
     "metadata": {},
     "output_type": "execute_result"
    }
   ],
   "source": [
    "#Afficher le doublons\n",
    "df.duplicated()\n",
    "#df.head()\n"
   ]
  },
  {
   "cell_type": "code",
   "execution_count": 237,
   "id": "111b5c08-3f67-4cef-b43b-18b54b631a3d",
   "metadata": {},
   "outputs": [
    {
     "name": "stdout",
     "output_type": "stream",
     "text": [
      "     Nom  Niveau    Age  Ville  Numero téléphone\n",
      "0  False   False  False  False             False\n",
      "1  False   False  False  False             False\n",
      "2  False   False  False  False             False\n",
      "3  False   False  False  False             False\n"
     ]
    }
   ],
   "source": [
    "#Verifier les valeurs manquantes\n",
    "print(df.isnull())"
   ]
  },
  {
   "cell_type": "code",
   "execution_count": 233,
   "id": "755959ef-b4f2-4a33-bc5e-0f5f2f4d29af",
   "metadata": {},
   "outputs": [
    {
     "data": {
      "text/html": [
       "<div>\n",
       "<style scoped>\n",
       "    .dataframe tbody tr th:only-of-type {\n",
       "        vertical-align: middle;\n",
       "    }\n",
       "\n",
       "    .dataframe tbody tr th {\n",
       "        vertical-align: top;\n",
       "    }\n",
       "\n",
       "    .dataframe thead th {\n",
       "        text-align: right;\n",
       "    }\n",
       "</style>\n",
       "<table border=\"1\" class=\"dataframe\">\n",
       "  <thead>\n",
       "    <tr style=\"text-align: right;\">\n",
       "      <th></th>\n",
       "      <th>Nom</th>\n",
       "      <th>Niveau</th>\n",
       "      <th>Age</th>\n",
       "      <th>Ville</th>\n",
       "      <th>Numero téléphone</th>\n",
       "    </tr>\n",
       "  </thead>\n",
       "  <tbody>\n",
       "    <tr>\n",
       "      <th>0</th>\n",
       "      <td>Hafidhou maoulida</td>\n",
       "      <td>Bac +5</td>\n",
       "      <td>25</td>\n",
       "      <td>Tsinimoipanga</td>\n",
       "      <td>0612345675</td>\n",
       "    </tr>\n",
       "    <tr>\n",
       "      <th>1</th>\n",
       "      <td>Fahami Toihir</td>\n",
       "      <td>Doctorat</td>\n",
       "      <td>30</td>\n",
       "      <td>Vouvouni</td>\n",
       "      <td>0649769646</td>\n",
       "    </tr>\n",
       "    <tr>\n",
       "      <th>2</th>\n",
       "      <td>Zayyad Said</td>\n",
       "      <td>Bac +1</td>\n",
       "      <td>22</td>\n",
       "      <td>Mbachilé</td>\n",
       "      <td>0745678765</td>\n",
       "    </tr>\n",
       "    <tr>\n",
       "      <th>3</th>\n",
       "      <td>Sayaf Hassanaly</td>\n",
       "      <td>Bac +2</td>\n",
       "      <td>21</td>\n",
       "      <td>Hetsa</td>\n",
       "      <td>0544349534</td>\n",
       "    </tr>\n",
       "  </tbody>\n",
       "</table>\n",
       "</div>"
      ],
      "text/plain": [
       "                  Nom    Niveau  Age          Ville Numero téléphone\n",
       "0  Hafidhou maoulida     Bac +5   25  Tsinimoipanga       0612345675\n",
       "1       Fahami Toihir  Doctorat   30       Vouvouni       0649769646\n",
       "2         Zayyad Said    Bac +1   22       Mbachilé       0745678765\n",
       "3     Sayaf Hassanaly    Bac +2   21          Hetsa       0544349534"
      ]
     },
     "execution_count": 233,
     "metadata": {},
     "output_type": "execute_result"
    }
   ],
   "source": [
    "#Remplacer les valeurs manquantes \n",
    "df= df.fillna(4)\n",
    "df.head()"
   ]
  },
  {
   "cell_type": "code",
   "execution_count": 228,
   "id": "70304a99-4646-4543-84b1-2677023f85d9",
   "metadata": {},
   "outputs": [
    {
     "data": {
      "text/html": [
       "<div>\n",
       "<style scoped>\n",
       "    .dataframe tbody tr th:only-of-type {\n",
       "        vertical-align: middle;\n",
       "    }\n",
       "\n",
       "    .dataframe tbody tr th {\n",
       "        vertical-align: top;\n",
       "    }\n",
       "\n",
       "    .dataframe thead th {\n",
       "        text-align: right;\n",
       "    }\n",
       "</style>\n",
       "<table border=\"1\" class=\"dataframe\">\n",
       "  <thead>\n",
       "    <tr style=\"text-align: right;\">\n",
       "      <th></th>\n",
       "      <th>Nom</th>\n",
       "      <th>Niveau</th>\n",
       "      <th>Age</th>\n",
       "      <th>Ville</th>\n",
       "      <th>Numero téléphone</th>\n",
       "    </tr>\n",
       "  </thead>\n",
       "  <tbody>\n",
       "    <tr>\n",
       "      <th>0</th>\n",
       "      <td>Hafidhou maoulida</td>\n",
       "      <td>Bac +5</td>\n",
       "      <td>25</td>\n",
       "      <td>Tsinimoipanga</td>\n",
       "      <td>0612345675</td>\n",
       "    </tr>\n",
       "    <tr>\n",
       "      <th>1</th>\n",
       "      <td>Fahami Toihir</td>\n",
       "      <td>Doctorat</td>\n",
       "      <td>30</td>\n",
       "      <td>Vouvouni</td>\n",
       "      <td>0649769646</td>\n",
       "    </tr>\n",
       "    <tr>\n",
       "      <th>2</th>\n",
       "      <td>Zayyad Said</td>\n",
       "      <td>Bac +1</td>\n",
       "      <td>22</td>\n",
       "      <td>Mbachilé</td>\n",
       "      <td>0745678765</td>\n",
       "    </tr>\n",
       "    <tr>\n",
       "      <th>3</th>\n",
       "      <td>Sayaf Hassanaly</td>\n",
       "      <td>Bac +2</td>\n",
       "      <td>21</td>\n",
       "      <td>Hetsa</td>\n",
       "      <td>0544349534</td>\n",
       "    </tr>\n",
       "  </tbody>\n",
       "</table>\n",
       "</div>"
      ],
      "text/plain": [
       "                  Nom    Niveau  Age          Ville Numero téléphone\n",
       "0  Hafidhou maoulida     Bac +5   25  Tsinimoipanga       0612345675\n",
       "1       Fahami Toihir  Doctorat   30       Vouvouni       0649769646\n",
       "2         Zayyad Said    Bac +1   22       Mbachilé       0745678765\n",
       "3     Sayaf Hassanaly    Bac +2   21          Hetsa       0544349534"
      ]
     },
     "execution_count": 228,
     "metadata": {},
     "output_type": "execute_result"
    }
   ],
   "source": [
    "df =df.dropna()\n",
    "df.head()"
   ]
  },
  {
   "cell_type": "code",
   "execution_count": 229,
   "id": "dbb28551-24ca-484e-9158-e98b497416c9",
   "metadata": {},
   "outputs": [
    {
     "data": {
      "text/html": [
       "<div>\n",
       "<style scoped>\n",
       "    .dataframe tbody tr th:only-of-type {\n",
       "        vertical-align: middle;\n",
       "    }\n",
       "\n",
       "    .dataframe tbody tr th {\n",
       "        vertical-align: top;\n",
       "    }\n",
       "\n",
       "    .dataframe thead th {\n",
       "        text-align: right;\n",
       "    }\n",
       "</style>\n",
       "<table border=\"1\" class=\"dataframe\">\n",
       "  <thead>\n",
       "    <tr style=\"text-align: right;\">\n",
       "      <th></th>\n",
       "      <th>Nom</th>\n",
       "      <th>Niveau</th>\n",
       "      <th>Age</th>\n",
       "      <th>Ville</th>\n",
       "      <th>Numero téléphone</th>\n",
       "    </tr>\n",
       "  </thead>\n",
       "  <tbody>\n",
       "    <tr>\n",
       "      <th>0</th>\n",
       "      <td>Hafidhou maoulida</td>\n",
       "      <td>Bac +5</td>\n",
       "      <td>25</td>\n",
       "      <td>Tsinimoipanga</td>\n",
       "      <td>0612345675</td>\n",
       "    </tr>\n",
       "    <tr>\n",
       "      <th>1</th>\n",
       "      <td>Fahami Toihir</td>\n",
       "      <td>Doctorat</td>\n",
       "      <td>30</td>\n",
       "      <td>Vouvouni</td>\n",
       "      <td>0649769646</td>\n",
       "    </tr>\n",
       "    <tr>\n",
       "      <th>2</th>\n",
       "      <td>Zayyad Said</td>\n",
       "      <td>Bac +1</td>\n",
       "      <td>22</td>\n",
       "      <td>Mbachilé</td>\n",
       "      <td>0745678765</td>\n",
       "    </tr>\n",
       "    <tr>\n",
       "      <th>3</th>\n",
       "      <td>Sayaf Hassanaly</td>\n",
       "      <td>Bac +2</td>\n",
       "      <td>21</td>\n",
       "      <td>Hetsa</td>\n",
       "      <td>0544349534</td>\n",
       "    </tr>\n",
       "  </tbody>\n",
       "</table>\n",
       "</div>"
      ],
      "text/plain": [
       "                  Nom    Niveau  Age          Ville Numero téléphone\n",
       "0  Hafidhou maoulida     Bac +5   25  Tsinimoipanga       0612345675\n",
       "1       Fahami Toihir  Doctorat   30       Vouvouni       0649769646\n",
       "2         Zayyad Said    Bac +1   22       Mbachilé       0745678765\n",
       "3     Sayaf Hassanaly    Bac +2   21          Hetsa       0544349534"
      ]
     },
     "execution_count": 229,
     "metadata": {},
     "output_type": "execute_result"
    }
   ],
   "source": [
    "df"
   ]
  },
  {
   "cell_type": "code",
   "execution_count": 226,
   "id": "e1b659d8-6c25-4f9d-8f01-b838d4dde458",
   "metadata": {},
   "outputs": [
    {
     "data": {
      "text/html": [
       "<div>\n",
       "<style scoped>\n",
       "    .dataframe tbody tr th:only-of-type {\n",
       "        vertical-align: middle;\n",
       "    }\n",
       "\n",
       "    .dataframe tbody tr th {\n",
       "        vertical-align: top;\n",
       "    }\n",
       "\n",
       "    .dataframe thead th {\n",
       "        text-align: right;\n",
       "    }\n",
       "</style>\n",
       "<table border=\"1\" class=\"dataframe\">\n",
       "  <thead>\n",
       "    <tr style=\"text-align: right;\">\n",
       "      <th></th>\n",
       "      <th>Nom</th>\n",
       "      <th>Niveau</th>\n",
       "      <th>Age</th>\n",
       "      <th>Ville</th>\n",
       "      <th>Numero téléphone</th>\n",
       "    </tr>\n",
       "  </thead>\n",
       "  <tbody>\n",
       "    <tr>\n",
       "      <th>0</th>\n",
       "      <td>Hafidhou maoulida</td>\n",
       "      <td>Bac +5</td>\n",
       "      <td>25</td>\n",
       "      <td>Tsinimoipanga</td>\n",
       "      <td>0612345675</td>\n",
       "    </tr>\n",
       "    <tr>\n",
       "      <th>1</th>\n",
       "      <td>Fahami Toihir</td>\n",
       "      <td>Doctorat</td>\n",
       "      <td>30</td>\n",
       "      <td>Vouvouni</td>\n",
       "      <td>0649769646</td>\n",
       "    </tr>\n",
       "    <tr>\n",
       "      <th>2</th>\n",
       "      <td>Zayyad Said</td>\n",
       "      <td>Bac +1</td>\n",
       "      <td>22</td>\n",
       "      <td>Mbachilé</td>\n",
       "      <td>0745678765</td>\n",
       "    </tr>\n",
       "    <tr>\n",
       "      <th>3</th>\n",
       "      <td>Sayaf Hassanaly</td>\n",
       "      <td>Bac +2</td>\n",
       "      <td>21</td>\n",
       "      <td>Hetsa</td>\n",
       "      <td>0544349534</td>\n",
       "    </tr>\n",
       "  </tbody>\n",
       "</table>\n",
       "</div>"
      ],
      "text/plain": [
       "                  Nom    Niveau  Age          Ville Numero téléphone\n",
       "0  Hafidhou maoulida     Bac +5   25  Tsinimoipanga       0612345675\n",
       "1       Fahami Toihir  Doctorat   30       Vouvouni       0649769646\n",
       "2         Zayyad Said    Bac +1   22       Mbachilé       0745678765\n",
       "3     Sayaf Hassanaly    Bac +2   21          Hetsa       0544349534"
      ]
     },
     "execution_count": 226,
     "metadata": {},
     "output_type": "execute_result"
    }
   ],
   "source": [
    "#Supprimer les doublons\n",
    "df.drop_duplicates(keep = 'first', inplace=True)\n",
    "df.head()"
   ]
  },
  {
   "cell_type": "code",
   "execution_count": 220,
   "id": "c866454e-ec72-4ff2-a339-bf3b40c289f5",
   "metadata": {},
   "outputs": [
    {
     "data": {
      "text/html": [
       "<div>\n",
       "<style scoped>\n",
       "    .dataframe tbody tr th:only-of-type {\n",
       "        vertical-align: middle;\n",
       "    }\n",
       "\n",
       "    .dataframe tbody tr th {\n",
       "        vertical-align: top;\n",
       "    }\n",
       "\n",
       "    .dataframe thead th {\n",
       "        text-align: right;\n",
       "    }\n",
       "</style>\n",
       "<table border=\"1\" class=\"dataframe\">\n",
       "  <thead>\n",
       "    <tr style=\"text-align: right;\">\n",
       "      <th></th>\n",
       "      <th>Nom</th>\n",
       "      <th>Niveau</th>\n",
       "      <th>Age</th>\n",
       "      <th>Ville</th>\n",
       "      <th>Numero téléphone</th>\n",
       "    </tr>\n",
       "  </thead>\n",
       "  <tbody>\n",
       "    <tr>\n",
       "      <th>0</th>\n",
       "      <td>Hafidhou maoulida</td>\n",
       "      <td>Bac +5</td>\n",
       "      <td>25</td>\n",
       "      <td>Tsinimoipanga</td>\n",
       "      <td>0612345675</td>\n",
       "    </tr>\n",
       "    <tr>\n",
       "      <th>1</th>\n",
       "      <td>Fahami Toihir</td>\n",
       "      <td>Doctorat</td>\n",
       "      <td>30</td>\n",
       "      <td>Vouvouni</td>\n",
       "      <td>0649769646</td>\n",
       "    </tr>\n",
       "    <tr>\n",
       "      <th>2</th>\n",
       "      <td>Zayyad Said</td>\n",
       "      <td>Bac +1</td>\n",
       "      <td>22</td>\n",
       "      <td>Mbachilé</td>\n",
       "      <td>0745678765</td>\n",
       "    </tr>\n",
       "    <tr>\n",
       "      <th>3</th>\n",
       "      <td>Sayaf Hassanaly</td>\n",
       "      <td>Bac +2</td>\n",
       "      <td>21</td>\n",
       "      <td>Hetsa</td>\n",
       "      <td>0544349534</td>\n",
       "    </tr>\n",
       "  </tbody>\n",
       "</table>\n",
       "</div>"
      ],
      "text/plain": [
       "                  Nom    Niveau  Age          Ville Numero téléphone\n",
       "0  Hafidhou maoulida     Bac +5   25  Tsinimoipanga       0612345675\n",
       "1       Fahami Toihir  Doctorat   30       Vouvouni       0649769646\n",
       "2         Zayyad Said    Bac +1   22       Mbachilé       0745678765\n",
       "3     Sayaf Hassanaly    Bac +2   21          Hetsa       0544349534"
      ]
     },
     "execution_count": 220,
     "metadata": {},
     "output_type": "execute_result"
    }
   ],
   "source": [
    "df['Numero téléphone']=[\"0612345675\",\"0649769646\",\"0745678765\",\"0544349534\"]\n",
    "#print(df)\n",
    "df.head()"
   ]
  },
  {
   "cell_type": "code",
   "execution_count": null,
   "id": "96d9f84c-e4ad-45cd-bec7-3574f99d3e62",
   "metadata": {},
   "outputs": [],
   "source": []
  }
 ],
 "metadata": {
  "kernelspec": {
   "display_name": "Python 3 (ipykernel)",
   "language": "python",
   "name": "python3"
  },
  "language_info": {
   "codemirror_mode": {
    "name": "ipython",
    "version": 3
   },
   "file_extension": ".py",
   "mimetype": "text/x-python",
   "name": "python",
   "nbconvert_exporter": "python",
   "pygments_lexer": "ipython3",
   "version": "3.13.0"
  }
 },
 "nbformat": 4,
 "nbformat_minor": 5
}
