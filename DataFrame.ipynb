{
 "cells": [
  {
   "cell_type": "code",
   "execution_count": 2,
   "id": "6156f076-6f70-48d7-a09c-3f57c3699ad8",
   "metadata": {},
   "outputs": [],
   "source": [
    "#Importations de librairie pandas \n",
    "import pandas as pd \n"
   ]
  },
  {
   "cell_type": "code",
   "execution_count": 3,
   "id": "1720e183-5915-4326-9ae3-cabcfd555fa8",
   "metadata": {},
   "outputs": [],
   "source": [
    "#Creations de la DataFrame \n",
    "\n",
    "data ={\n",
    "    'Nom':['Hafidhou maoulida ','Fahami Toihir','Zayyad Said'],\n",
    "    'Niveau':['Bac +5', 'Doctorat','Bac +1'],\n",
    "    'Age':[25,30,22],\n",
    "    'Ville':['Tsinimoipanga','Vouvouni','Mbachilé']\n",
    "}\n"
   ]
  },
  {
   "cell_type": "code",
   "execution_count": 4,
   "id": "bbd2fb2f-f113-4865-8123-cfd70897e4da",
   "metadata": {},
   "outputs": [
    {
     "name": "stdout",
     "output_type": "stream",
     "text": [
      "                  Nom    Niveau  Age          Ville\n",
      "0  Hafidhou maoulida     Bac +5   25  Tsinimoipanga\n",
      "1       Fahami Toihir  Doctorat   30       Vouvouni\n",
      "2         Zayyad Said    Bac +1   22       Mbachilé\n"
     ]
    }
   ],
   "source": [
    "#Afficher la liste de la DataFrame\n",
    "df=pd.DataFrame(data)\n",
    "print(df)"
   ]
  },
  {
   "cell_type": "code",
   "execution_count": 5,
   "id": "3442dfbf-56ea-4f4c-a74f-b093420fa1d2",
   "metadata": {},
   "outputs": [
    {
     "name": "stdout",
     "output_type": "stream",
     "text": [
      "                  Nom    Niveau  Age          Ville\n",
      "0  Hafidhou maoulida     Bac +5   25  Tsinimoipanga\n",
      "1       Fahami Toihir  Doctorat   30       Vouvouni\n",
      "2         Zayyad Said    Bac +1   22       Mbachilé\n"
     ]
    }
   ],
   "source": [
    "#Afficher les premieres lignes \n",
    "print(df.head())\n"
   ]
  },
  {
   "cell_type": "code",
   "execution_count": 6,
   "id": "b0ae0f92-2336-43f2-92d0-bce9d1747792",
   "metadata": {},
   "outputs": [
    {
     "name": "stdout",
     "output_type": "stream",
     "text": [
      "                  Nom    Niveau  Age          Ville\n",
      "0  Hafidhou maoulida     Bac +5   25  Tsinimoipanga\n",
      "1       Fahami Toihir  Doctorat   30       Vouvouni\n",
      "2         Zayyad Said    Bac +1   22       Mbachilé\n"
     ]
    }
   ],
   "source": [
    "#afficher les dernieres lignes \n",
    "print(df.tail())"
   ]
  },
  {
   "cell_type": "code",
   "execution_count": 7,
   "id": "62777ab7-dcef-4c31-96f4-02249e53d60b",
   "metadata": {},
   "outputs": [
    {
     "name": "stdout",
     "output_type": "stream",
     "text": [
      "<class 'pandas.core.frame.DataFrame'>\n",
      "RangeIndex: 3 entries, 0 to 2\n",
      "Data columns (total 4 columns):\n",
      " #   Column  Non-Null Count  Dtype \n",
      "---  ------  --------------  ----- \n",
      " 0   Nom     3 non-null      object\n",
      " 1   Niveau  3 non-null      object\n",
      " 2   Age     3 non-null      int64 \n",
      " 3   Ville   3 non-null      object\n",
      "dtypes: int64(1), object(3)\n",
      "memory usage: 228.0+ bytes\n",
      "None\n"
     ]
    }
   ],
   "source": [
    "#Afficher les informations sur la DataFrame\n",
    "print(df.info())"
   ]
  },
  {
   "cell_type": "code",
   "execution_count": 8,
   "id": "b1e80daf-3197-4c48-859b-263370f10716",
   "metadata": {},
   "outputs": [
    {
     "name": "stdout",
     "output_type": "stream",
     "text": [
      "             Age\n",
      "count   3.000000\n",
      "mean   25.666667\n",
      "std     4.041452\n",
      "min    22.000000\n",
      "25%    23.500000\n",
      "50%    25.000000\n",
      "75%    27.500000\n",
      "max    30.000000\n"
     ]
    }
   ],
   "source": [
    "#Afficher des statistiques descriptives\n",
    "print(df.describe())"
   ]
  },
  {
   "cell_type": "code",
   "execution_count": 9,
   "id": "2ebac129-83d8-4eb8-9844-84942cac5ccb",
   "metadata": {},
   "outputs": [
    {
     "name": "stdout",
     "output_type": "stream",
     "text": [
      "0    Hafidhou maoulida \n",
      "1         Fahami Toihir\n",
      "2           Zayyad Said\n",
      "Name: Nom, dtype: object\n"
     ]
    }
   ],
   "source": [
    "#Selectionner une colonne\n",
    "print(df['Nom'])"
   ]
  },
  {
   "cell_type": "code",
   "execution_count": 10,
   "id": "435b79ec-d2ff-4918-bb65-c47d64c4f082",
   "metadata": {},
   "outputs": [
    {
     "name": "stdout",
     "output_type": "stream",
     "text": [
      "   Age          Ville\n",
      "0   25  Tsinimoipanga\n",
      "1   30       Vouvouni\n",
      "2   22       Mbachilé\n"
     ]
    }
   ],
   "source": [
    "#Selectionner plusieurs colonnes \n",
    "print(df[['Age','Ville']])"
   ]
  },
  {
   "cell_type": "code",
   "execution_count": 11,
   "id": "333615e5-17ce-4834-8f2b-929271f3d961",
   "metadata": {},
   "outputs": [
    {
     "name": "stdout",
     "output_type": "stream",
     "text": [
      "Nom       Hafidhou maoulida \n",
      "Niveau                Bac +5\n",
      "Age                       25\n",
      "Ville          Tsinimoipanga\n",
      "Name: 0, dtype: object\n"
     ]
    }
   ],
   "source": [
    "#Selectionner des lignes par index \n",
    "print(df.iloc[0]) #Premiere ligne"
   ]
  },
  {
   "cell_type": "code",
   "execution_count": 12,
   "id": "f17ebb2e-cbc4-4937-a870-4dee617be3c7",
   "metadata": {},
   "outputs": [
    {
     "name": "stdout",
     "output_type": "stream",
     "text": [
      "Nom       Fahami Toihir\n",
      "Niveau         Doctorat\n",
      "Age                  30\n",
      "Ville          Vouvouni\n",
      "Name: 1, dtype: object\n"
     ]
    }
   ],
   "source": [
    "#Selectionner des lignes par index \n",
    "print(df.loc[1]) #ligne avec l'index 0"
   ]
  },
  {
   "cell_type": "code",
   "execution_count": 13,
   "id": "fad3d06b-2035-4b90-8b02-150ce8cd81bd",
   "metadata": {},
   "outputs": [
    {
     "name": "stdout",
     "output_type": "stream",
     "text": [
      "             Nom    Niveau  Age     Ville\n",
      "1  Fahami Toihir  Doctorat   30  Vouvouni\n"
     ]
    }
   ],
   "source": [
    "#Filtrer les données\n",
    "print (df[df['Age'] >= 30])"
   ]
  },
  {
   "cell_type": "raw",
   "id": "0915c238-99fb-4ce1-b2e0-684e72c2f06e",
   "metadata": {},
   "source": [
    "Modification des données "
   ]
  },
  {
   "cell_type": "code",
   "execution_count": 33,
   "id": "8aefabdd-0472-4ffe-9ede-a60c0c9c41c6",
   "metadata": {},
   "outputs": [
    {
     "name": "stdout",
     "output_type": "stream",
     "text": [
      "                  Nom    Niveau  Age          Ville  Moyenne  \\\n",
      "0  Hafidhou maoulida     Bac +5   25  Tsinimoipanga    13.85   \n",
      "1       Fahami Toihir  Doctorat   30       Vouvouni    15.00   \n",
      "2         Zayyad Said    Bac +1   22       Mbachilé    14.90   \n",
      "\n",
      "        Etablissement  \n",
      "0      Sup'management  \n",
      "1  Faculté de Kenetra  \n",
      "2       Sup'manaement  \n"
     ]
    }
   ],
   "source": [
    "#Ajouter une nouvelle colone\n",
    "df['Moyenne'] =[13.85,15,14.90]\n",
    "print(df)\n",
    "\n"
   ]
  },
  {
   "cell_type": "code",
   "execution_count": 41,
   "id": "2bd6235b-79ad-497f-91cc-b147a35d1ac7",
   "metadata": {},
   "outputs": [
    {
     "name": "stdout",
     "output_type": "stream",
     "text": [
      "                  Nom    Niveau  Age          Ville  Moyenne  \\\n",
      "0  Hafidhou maoulida     Bac +5   26  Tsinimoipanga    13.85   \n",
      "1       Fahami Toihir  Doctorat   31       Vouvouni    15.00   \n",
      "2         Zayyad Said    Bac +1   23       Mbachilé    14.90   \n",
      "\n",
      "        Etablissement  \n",
      "0      Sup'management  \n",
      "1  Faculté de Kenetra  \n",
      "2       Sup'manaement  \n"
     ]
    }
   ],
   "source": [
    "df['Etablissement']=[\"Sup'management\",\"Faculté de Kenetra\",\"Sup'manaement\"]\n",
    "print(df)"
   ]
  },
  {
   "cell_type": "code",
   "execution_count": 35,
   "id": "138eee4c-6054-44ae-97d1-35815cc92414",
   "metadata": {},
   "outputs": [],
   "source": [
    "#Modifier une colonne existante\n",
    "df['Age'] = df['Age'] + 1 #Ajout plus +1 l'age"
   ]
  },
  {
   "cell_type": "code",
   "execution_count": 36,
   "id": "5aa77d42-4749-49f0-bcab-e0efef24812d",
   "metadata": {},
   "outputs": [
    {
     "name": "stdout",
     "output_type": "stream",
     "text": [
      "                  Nom    Niveau  Age          Ville  Moyenne  \\\n",
      "0  Hafidhou maoulida     Bac +5   26  Tsinimoipanga    13.85   \n",
      "1       Fahami Toihir  Doctorat   31       Vouvouni    15.00   \n",
      "2         Zayyad Said    Bac +1   23       Mbachilé    14.90   \n",
      "\n",
      "        Etablissement  \n",
      "0      Sup'management  \n",
      "1  Faculté de Kenetra  \n",
      "2       Sup'manaement  \n"
     ]
    }
   ],
   "source": [
    "print (df)"
   ]
  },
  {
   "cell_type": "code",
   "execution_count": 39,
   "id": "29475165-c0a5-41cb-a567-3828c46ff463",
   "metadata": {},
   "outputs": [],
   "source": [
    "#supprimer une colonne exixtante \n",
    "df = df.drop('Etablissement', axis=1)"
   ]
  },
  {
   "cell_type": "code",
   "execution_count": 40,
   "id": "445ff571-4420-49f5-ae9c-bac2078db2a8",
   "metadata": {},
   "outputs": [
    {
     "name": "stdout",
     "output_type": "stream",
     "text": [
      "                  Nom    Niveau  Age          Ville  Moyenne\n",
      "0  Hafidhou maoulida     Bac +5   26  Tsinimoipanga    13.85\n",
      "1       Fahami Toihir  Doctorat   31       Vouvouni    15.00\n",
      "2         Zayyad Said    Bac +1   23       Mbachilé    14.90\n"
     ]
    }
   ],
   "source": [
    "print(df)"
   ]
  },
  {
   "cell_type": "markdown",
   "id": "85e23373-a457-4fdb-a8f1-7c3fead23321",
   "metadata": {},
   "source": [
    "Gestion des valeurs manquantes"
   ]
  },
  {
   "cell_type": "code",
   "execution_count": 42,
   "id": "766fbc4d-82e0-419e-929d-3c3eac642b07",
   "metadata": {},
   "outputs": [
    {
     "name": "stdout",
     "output_type": "stream",
     "text": [
      "     Nom  Niveau    Age  Ville  Moyenne  Etablissement\n",
      "0  False   False  False  False    False          False\n",
      "1  False   False  False  False    False          False\n",
      "2  False   False  False  False    False          False\n"
     ]
    }
   ],
   "source": [
    "#Verifier les valeurs manquantes\n",
    "print(df.isnull())"
   ]
  },
  {
   "cell_type": "code",
   "execution_count": 43,
   "id": "959592bf-d6af-4b2d-beac-486c5c8d5cc9",
   "metadata": {},
   "outputs": [],
   "source": [
    "#Supprimer les lignes avec des valeurs manquantes \n",
    "df =df.dropna()"
   ]
  },
  {
   "cell_type": "code",
   "execution_count": 44,
   "id": "65791d73-01c6-454c-a8a7-e5e187ec1f8d",
   "metadata": {},
   "outputs": [
    {
     "name": "stdout",
     "output_type": "stream",
     "text": [
      "                  Nom    Niveau  Age          Ville  Moyenne  \\\n",
      "0  Hafidhou maoulida     Bac +5   26  Tsinimoipanga    13.85   \n",
      "1       Fahami Toihir  Doctorat   31       Vouvouni    15.00   \n",
      "2         Zayyad Said    Bac +1   23       Mbachilé    14.90   \n",
      "\n",
      "        Etablissement  \n",
      "0      Sup'management  \n",
      "1  Faculté de Kenetra  \n",
      "2       Sup'manaement  \n"
     ]
    }
   ],
   "source": [
    "print(df)"
   ]
  },
  {
   "cell_type": "code",
   "execution_count": 45,
   "id": "e8a074ed-1a9e-4ac3-88d3-6989ff128082",
   "metadata": {},
   "outputs": [],
   "source": [
    "#Remplacer les valeurs manquantes \n",
    "df= df.fillna(0)"
   ]
  },
  {
   "cell_type": "code",
   "execution_count": 46,
   "id": "69ce39a5-9890-41ec-807c-0496412eb8d3",
   "metadata": {},
   "outputs": [
    {
     "name": "stdout",
     "output_type": "stream",
     "text": [
      "                  Nom    Niveau  Age          Ville  Moyenne  \\\n",
      "0  Hafidhou maoulida     Bac +5   26  Tsinimoipanga    13.85   \n",
      "1       Fahami Toihir  Doctorat   31       Vouvouni    15.00   \n",
      "2         Zayyad Said    Bac +1   23       Mbachilé    14.90   \n",
      "\n",
      "        Etablissement  \n",
      "0      Sup'management  \n",
      "1  Faculté de Kenetra  \n",
      "2       Sup'manaement  \n"
     ]
    }
   ],
   "source": [
    "print (df)"
   ]
  },
  {
   "cell_type": "markdown",
   "id": "a215f22d-8657-4964-92b4-da2887db9d30",
   "metadata": {},
   "source": [
    "Agrégation et regroupement"
   ]
  },
  {
   "cell_type": "code",
   "execution_count": 47,
   "id": "c8981f2a-fe41-4835-b2b1-afc44b140a05",
   "metadata": {},
   "outputs": [
    {
     "name": "stdout",
     "output_type": "stream",
     "text": [
      "26.666666666666668\n"
     ]
    }
   ],
   "source": [
    "#Calculer la moyenne d'une colonne\n",
    "print(df['Age'].mean())"
   ]
  },
  {
   "cell_type": "code",
   "execution_count": 48,
   "id": "3de781fe-19c0-482c-9baf-eef7d6c5a08c",
   "metadata": {},
   "outputs": [
    {
     "name": "stdout",
     "output_type": "stream",
     "text": [
      "Ville\n",
      "Mbachilé         23.0\n",
      "Tsinimoipanga    26.0\n",
      "Vouvouni         31.0\n",
      "Name: Age, dtype: float64\n"
     ]
    }
   ],
   "source": [
    "#Grouper par colonne et calculer des statiques\n",
    "print(df.groupby('Ville')['Age'].mean())"
   ]
  },
  {
   "cell_type": "markdown",
   "id": "eae0336d-d0b2-4124-b4e9-c074f0533355",
   "metadata": {},
   "source": [
    "Tri des données"
   ]
  },
  {
   "cell_type": "code",
   "execution_count": 53,
   "id": "05ce7e62-b053-4d3b-987b-49712899be13",
   "metadata": {},
   "outputs": [
    {
     "name": "stdout",
     "output_type": "stream",
     "text": [
      "                  Nom    Niveau  Age          Ville  Moyenne  \\\n",
      "1       Fahami Toihir  Doctorat   31       Vouvouni    15.00   \n",
      "0  Hafidhou maoulida     Bac +5   26  Tsinimoipanga    13.85   \n",
      "2         Zayyad Said    Bac +1   23       Mbachilé    14.90   \n",
      "\n",
      "        Etablissement  \n",
      "1  Faculté de Kenetra  \n",
      "0      Sup'management  \n",
      "2       Sup'manaement  \n"
     ]
    }
   ],
   "source": [
    "#Trier par colonne\n",
    "df= df.sort_values(by='Age',ascending=False) #trier par ordre croissant \n",
    "print(df)"
   ]
  },
  {
   "cell_type": "raw",
   "id": "f5c2f326-9d4a-4007-b516-3204593c610c",
   "metadata": {},
   "source": [
    "Exportation des données"
   ]
  },
  {
   "cell_type": "code",
   "execution_count": 56,
   "id": "c3d1bab5-ad00-49be-ac39-92c88dc5282a",
   "metadata": {},
   "outputs": [],
   "source": [
    "#Exporter en CSV\n",
    "df.to_csv('nouveau_fichier.csv', index=False)\n"
   ]
  },
  {
   "cell_type": "code",
   "execution_count": 55,
   "id": "1e9487c9-ba30-4da6-98ac-ac29fb8e6bf0",
   "metadata": {},
   "outputs": [
    {
     "ename": "ModuleNotFoundError",
     "evalue": "No module named 'openpyxl'",
     "output_type": "error",
     "traceback": [
      "\u001b[1;31m---------------------------------------------------------------------------\u001b[0m",
      "\u001b[1;31mModuleNotFoundError\u001b[0m                       Traceback (most recent call last)",
      "Cell \u001b[1;32mIn[55], line 2\u001b[0m\n\u001b[0;32m      1\u001b[0m \u001b[38;5;66;03m#Exporter en Excel\u001b[39;00m\n\u001b[1;32m----> 2\u001b[0m \u001b[43mdf\u001b[49m\u001b[38;5;241;43m.\u001b[39;49m\u001b[43mto_excel\u001b[49m\u001b[43m(\u001b[49m\u001b[38;5;124;43m'\u001b[39;49m\u001b[38;5;124;43mnouveau_fichier.xlsx\u001b[39;49m\u001b[38;5;124;43m'\u001b[39;49m\u001b[43m,\u001b[49m\u001b[43m \u001b[49m\u001b[43mindex\u001b[49m\u001b[38;5;241;43m=\u001b[39;49m\u001b[38;5;28;43;01mFalse\u001b[39;49;00m\u001b[43m)\u001b[49m\n",
      "File \u001b[1;32mC:\\Python\\Python313\\Lib\\site-packages\\pandas\\util\\_decorators.py:333\u001b[0m, in \u001b[0;36mdeprecate_nonkeyword_arguments.<locals>.decorate.<locals>.wrapper\u001b[1;34m(*args, **kwargs)\u001b[0m\n\u001b[0;32m    327\u001b[0m \u001b[38;5;28;01mif\u001b[39;00m \u001b[38;5;28mlen\u001b[39m(args) \u001b[38;5;241m>\u001b[39m num_allow_args:\n\u001b[0;32m    328\u001b[0m     warnings\u001b[38;5;241m.\u001b[39mwarn(\n\u001b[0;32m    329\u001b[0m         msg\u001b[38;5;241m.\u001b[39mformat(arguments\u001b[38;5;241m=\u001b[39m_format_argument_list(allow_args)),\n\u001b[0;32m    330\u001b[0m         \u001b[38;5;167;01mFutureWarning\u001b[39;00m,\n\u001b[0;32m    331\u001b[0m         stacklevel\u001b[38;5;241m=\u001b[39mfind_stack_level(),\n\u001b[0;32m    332\u001b[0m     )\n\u001b[1;32m--> 333\u001b[0m \u001b[38;5;28;01mreturn\u001b[39;00m \u001b[43mfunc\u001b[49m\u001b[43m(\u001b[49m\u001b[38;5;241;43m*\u001b[39;49m\u001b[43margs\u001b[49m\u001b[43m,\u001b[49m\u001b[43m \u001b[49m\u001b[38;5;241;43m*\u001b[39;49m\u001b[38;5;241;43m*\u001b[39;49m\u001b[43mkwargs\u001b[49m\u001b[43m)\u001b[49m\n",
      "File \u001b[1;32mC:\\Python\\Python313\\Lib\\site-packages\\pandas\\core\\generic.py:2417\u001b[0m, in \u001b[0;36mNDFrame.to_excel\u001b[1;34m(self, excel_writer, sheet_name, na_rep, float_format, columns, header, index, index_label, startrow, startcol, engine, merge_cells, inf_rep, freeze_panes, storage_options, engine_kwargs)\u001b[0m\n\u001b[0;32m   2404\u001b[0m \u001b[38;5;28;01mfrom\u001b[39;00m \u001b[38;5;21;01mpandas\u001b[39;00m\u001b[38;5;21;01m.\u001b[39;00m\u001b[38;5;21;01mio\u001b[39;00m\u001b[38;5;21;01m.\u001b[39;00m\u001b[38;5;21;01mformats\u001b[39;00m\u001b[38;5;21;01m.\u001b[39;00m\u001b[38;5;21;01mexcel\u001b[39;00m \u001b[38;5;28;01mimport\u001b[39;00m ExcelFormatter\n\u001b[0;32m   2406\u001b[0m formatter \u001b[38;5;241m=\u001b[39m ExcelFormatter(\n\u001b[0;32m   2407\u001b[0m     df,\n\u001b[0;32m   2408\u001b[0m     na_rep\u001b[38;5;241m=\u001b[39mna_rep,\n\u001b[1;32m   (...)\u001b[0m\n\u001b[0;32m   2415\u001b[0m     inf_rep\u001b[38;5;241m=\u001b[39minf_rep,\n\u001b[0;32m   2416\u001b[0m )\n\u001b[1;32m-> 2417\u001b[0m \u001b[43mformatter\u001b[49m\u001b[38;5;241;43m.\u001b[39;49m\u001b[43mwrite\u001b[49m\u001b[43m(\u001b[49m\n\u001b[0;32m   2418\u001b[0m \u001b[43m    \u001b[49m\u001b[43mexcel_writer\u001b[49m\u001b[43m,\u001b[49m\n\u001b[0;32m   2419\u001b[0m \u001b[43m    \u001b[49m\u001b[43msheet_name\u001b[49m\u001b[38;5;241;43m=\u001b[39;49m\u001b[43msheet_name\u001b[49m\u001b[43m,\u001b[49m\n\u001b[0;32m   2420\u001b[0m \u001b[43m    \u001b[49m\u001b[43mstartrow\u001b[49m\u001b[38;5;241;43m=\u001b[39;49m\u001b[43mstartrow\u001b[49m\u001b[43m,\u001b[49m\n\u001b[0;32m   2421\u001b[0m \u001b[43m    \u001b[49m\u001b[43mstartcol\u001b[49m\u001b[38;5;241;43m=\u001b[39;49m\u001b[43mstartcol\u001b[49m\u001b[43m,\u001b[49m\n\u001b[0;32m   2422\u001b[0m \u001b[43m    \u001b[49m\u001b[43mfreeze_panes\u001b[49m\u001b[38;5;241;43m=\u001b[39;49m\u001b[43mfreeze_panes\u001b[49m\u001b[43m,\u001b[49m\n\u001b[0;32m   2423\u001b[0m \u001b[43m    \u001b[49m\u001b[43mengine\u001b[49m\u001b[38;5;241;43m=\u001b[39;49m\u001b[43mengine\u001b[49m\u001b[43m,\u001b[49m\n\u001b[0;32m   2424\u001b[0m \u001b[43m    \u001b[49m\u001b[43mstorage_options\u001b[49m\u001b[38;5;241;43m=\u001b[39;49m\u001b[43mstorage_options\u001b[49m\u001b[43m,\u001b[49m\n\u001b[0;32m   2425\u001b[0m \u001b[43m    \u001b[49m\u001b[43mengine_kwargs\u001b[49m\u001b[38;5;241;43m=\u001b[39;49m\u001b[43mengine_kwargs\u001b[49m\u001b[43m,\u001b[49m\n\u001b[0;32m   2426\u001b[0m \u001b[43m\u001b[49m\u001b[43m)\u001b[49m\n",
      "File \u001b[1;32mC:\\Python\\Python313\\Lib\\site-packages\\pandas\\io\\formats\\excel.py:943\u001b[0m, in \u001b[0;36mExcelFormatter.write\u001b[1;34m(self, writer, sheet_name, startrow, startcol, freeze_panes, engine, storage_options, engine_kwargs)\u001b[0m\n\u001b[0;32m    941\u001b[0m     need_save \u001b[38;5;241m=\u001b[39m \u001b[38;5;28;01mFalse\u001b[39;00m\n\u001b[0;32m    942\u001b[0m \u001b[38;5;28;01melse\u001b[39;00m:\n\u001b[1;32m--> 943\u001b[0m     writer \u001b[38;5;241m=\u001b[39m \u001b[43mExcelWriter\u001b[49m\u001b[43m(\u001b[49m\n\u001b[0;32m    944\u001b[0m \u001b[43m        \u001b[49m\u001b[43mwriter\u001b[49m\u001b[43m,\u001b[49m\n\u001b[0;32m    945\u001b[0m \u001b[43m        \u001b[49m\u001b[43mengine\u001b[49m\u001b[38;5;241;43m=\u001b[39;49m\u001b[43mengine\u001b[49m\u001b[43m,\u001b[49m\n\u001b[0;32m    946\u001b[0m \u001b[43m        \u001b[49m\u001b[43mstorage_options\u001b[49m\u001b[38;5;241;43m=\u001b[39;49m\u001b[43mstorage_options\u001b[49m\u001b[43m,\u001b[49m\n\u001b[0;32m    947\u001b[0m \u001b[43m        \u001b[49m\u001b[43mengine_kwargs\u001b[49m\u001b[38;5;241;43m=\u001b[39;49m\u001b[43mengine_kwargs\u001b[49m\u001b[43m,\u001b[49m\n\u001b[0;32m    948\u001b[0m \u001b[43m    \u001b[49m\u001b[43m)\u001b[49m\n\u001b[0;32m    949\u001b[0m     need_save \u001b[38;5;241m=\u001b[39m \u001b[38;5;28;01mTrue\u001b[39;00m\n\u001b[0;32m    951\u001b[0m \u001b[38;5;28;01mtry\u001b[39;00m:\n",
      "File \u001b[1;32mC:\\Python\\Python313\\Lib\\site-packages\\pandas\\io\\excel\\_openpyxl.py:57\u001b[0m, in \u001b[0;36mOpenpyxlWriter.__init__\u001b[1;34m(self, path, engine, date_format, datetime_format, mode, storage_options, if_sheet_exists, engine_kwargs, **kwargs)\u001b[0m\n\u001b[0;32m     44\u001b[0m \u001b[38;5;28;01mdef\u001b[39;00m \u001b[38;5;21m__init__\u001b[39m(\n\u001b[0;32m     45\u001b[0m     \u001b[38;5;28mself\u001b[39m,\n\u001b[0;32m     46\u001b[0m     path: FilePath \u001b[38;5;241m|\u001b[39m WriteExcelBuffer \u001b[38;5;241m|\u001b[39m ExcelWriter,\n\u001b[1;32m   (...)\u001b[0m\n\u001b[0;32m     55\u001b[0m ) \u001b[38;5;241m-\u001b[39m\u001b[38;5;241m>\u001b[39m \u001b[38;5;28;01mNone\u001b[39;00m:\n\u001b[0;32m     56\u001b[0m     \u001b[38;5;66;03m# Use the openpyxl module as the Excel writer.\u001b[39;00m\n\u001b[1;32m---> 57\u001b[0m     \u001b[38;5;28;01mfrom\u001b[39;00m \u001b[38;5;21;01mopenpyxl\u001b[39;00m\u001b[38;5;21;01m.\u001b[39;00m\u001b[38;5;21;01mworkbook\u001b[39;00m \u001b[38;5;28;01mimport\u001b[39;00m Workbook\n\u001b[0;32m     59\u001b[0m     engine_kwargs \u001b[38;5;241m=\u001b[39m combine_kwargs(engine_kwargs, kwargs)\n\u001b[0;32m     61\u001b[0m     \u001b[38;5;28msuper\u001b[39m()\u001b[38;5;241m.\u001b[39m\u001b[38;5;21m__init__\u001b[39m(\n\u001b[0;32m     62\u001b[0m         path,\n\u001b[0;32m     63\u001b[0m         mode\u001b[38;5;241m=\u001b[39mmode,\n\u001b[1;32m   (...)\u001b[0m\n\u001b[0;32m     66\u001b[0m         engine_kwargs\u001b[38;5;241m=\u001b[39mengine_kwargs,\n\u001b[0;32m     67\u001b[0m     )\n",
      "\u001b[1;31mModuleNotFoundError\u001b[0m: No module named 'openpyxl'"
     ]
    }
   ],
   "source": [
    "#Exporter en Excel\n",
    "df.to_excel('nouveau_fichier.xlsx', index=False)"
   ]
  },
  {
   "cell_type": "code",
   "execution_count": null,
   "id": "eeb3d04b-a405-4ac5-a724-c7935ef29aba",
   "metadata": {},
   "outputs": [],
   "source": []
  }
 ],
 "metadata": {
  "kernelspec": {
   "display_name": "Python 3 (ipykernel)",
   "language": "python",
   "name": "python3"
  },
  "language_info": {
   "codemirror_mode": {
    "name": "ipython",
    "version": 3
   },
   "file_extension": ".py",
   "mimetype": "text/x-python",
   "name": "python",
   "nbconvert_exporter": "python",
   "pygments_lexer": "ipython3",
   "version": "3.13.0"
  }
 },
 "nbformat": 4,
 "nbformat_minor": 5
}
